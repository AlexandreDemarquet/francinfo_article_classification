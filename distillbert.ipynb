{
 "cells": [
  {
   "cell_type": "markdown",
   "metadata": {},
   "source": [
    "# Notebook pour l'utilisation de BERT en Transfert Learning"
   ]
  },
  {
   "cell_type": "markdown",
   "metadata": {},
   "source": [
    "### 1 - Importation des données"
   ]
  },
  {
   "cell_type": "code",
   "execution_count": 1,
   "metadata": {},
   "outputs": [],
   "source": [
    "import numpy as np\n",
    "import pandas as pd\n",
    "import matplotlib.pyplot as plt\n",
    "import random"
   ]
  },
  {
   "cell_type": "code",
   "execution_count": 2,
   "metadata": {},
   "outputs": [
    {
     "data": {
      "text/html": [
       "<div>\n",
       "<style scoped>\n",
       "    .dataframe tbody tr th:only-of-type {\n",
       "        vertical-align: middle;\n",
       "    }\n",
       "\n",
       "    .dataframe tbody tr th {\n",
       "        vertical-align: top;\n",
       "    }\n",
       "\n",
       "    .dataframe thead th {\n",
       "        text-align: right;\n",
       "    }\n",
       "</style>\n",
       "<table border=\"1\" class=\"dataframe\">\n",
       "  <thead>\n",
       "    <tr style=\"text-align: right;\">\n",
       "      <th></th>\n",
       "      <th>index</th>\n",
       "      <th>Label</th>\n",
       "      <th>Titre</th>\n",
       "      <th>Date</th>\n",
       "    </tr>\n",
       "  </thead>\n",
       "  <tbody>\n",
       "    <tr>\n",
       "      <th>0</th>\n",
       "      <td>0</td>\n",
       "      <td>culture</td>\n",
       "      <td>Affaire Gérard Depardieu : le parquet de Paris...</td>\n",
       "      <td>2024-08-22T20:40:00+02:00</td>\n",
       "    </tr>\n",
       "    <tr>\n",
       "      <th>1</th>\n",
       "      <td>1</td>\n",
       "      <td>culture</td>\n",
       "      <td>Festival de Deauville 2023 : avec \"Dogman\", Lu...</td>\n",
       "      <td>2023-09-03T12:06:33+02:00</td>\n",
       "    </tr>\n",
       "    <tr>\n",
       "      <th>2</th>\n",
       "      <td>4</td>\n",
       "      <td>culture</td>\n",
       "      <td>\"En live, le public doit s'amuser imméd...</td>\n",
       "      <td>2024-06-21T11:44:29+02:00</td>\n",
       "    </tr>\n",
       "    <tr>\n",
       "      <th>3</th>\n",
       "      <td>5</td>\n",
       "      <td>culture</td>\n",
       "      <td>De Wes Anderson à la Galerie des offices de Fl...</td>\n",
       "      <td>2024-11-30T13:31:33+01:00</td>\n",
       "    </tr>\n",
       "    <tr>\n",
       "      <th>4</th>\n",
       "      <td>6</td>\n",
       "      <td>culture</td>\n",
       "      <td>\"Même les souris vont au paradis\" : un film d’...</td>\n",
       "      <td>2021-06-14T12:32:20+02:00</td>\n",
       "    </tr>\n",
       "    <tr>\n",
       "      <th>...</th>\n",
       "      <td>...</td>\n",
       "      <td>...</td>\n",
       "      <td>...</td>\n",
       "      <td>...</td>\n",
       "    </tr>\n",
       "    <tr>\n",
       "      <th>6499</th>\n",
       "      <td>7021</td>\n",
       "      <td>sports</td>\n",
       "      <td>Ligue 1 : Lyon maîtrise Saint-Etienne dans le ...</td>\n",
       "      <td>2024-11-10T20:06:00+01:00</td>\n",
       "    </tr>\n",
       "    <tr>\n",
       "      <th>6500</th>\n",
       "      <td>7022</td>\n",
       "      <td>sports</td>\n",
       "      <td>Football : le milieu de l'équipe de France You...</td>\n",
       "      <td>2024-08-17T17:00:55+02:00</td>\n",
       "    </tr>\n",
       "    <tr>\n",
       "      <th>6501</th>\n",
       "      <td>7023</td>\n",
       "      <td>sports</td>\n",
       "      <td>Football : l'OM officialise l'arrivée d'Adrien...</td>\n",
       "      <td>2024-09-17T18:18:54+02:00</td>\n",
       "    </tr>\n",
       "    <tr>\n",
       "      <th>6502</th>\n",
       "      <td>7024</td>\n",
       "      <td>sports</td>\n",
       "      <td>Ligue 1 : le match Nantes-Le Havre interrompu ...</td>\n",
       "      <td>2024-11-24T19:44:29+01:00</td>\n",
       "    </tr>\n",
       "    <tr>\n",
       "      <th>6503</th>\n",
       "      <td>7025</td>\n",
       "      <td>sports</td>\n",
       "      <td>Open d'Australie 2024 : \"J'ai beaucoup appris\"...</td>\n",
       "      <td>2024-01-22T17:06:23+01:00</td>\n",
       "    </tr>\n",
       "  </tbody>\n",
       "</table>\n",
       "<p>6504 rows × 4 columns</p>\n",
       "</div>"
      ],
      "text/plain": [
       "      index    Label                                              Titre  \\\n",
       "0         0  culture  Affaire Gérard Depardieu : le parquet de Paris...   \n",
       "1         1  culture  Festival de Deauville 2023 : avec \"Dogman\", Lu...   \n",
       "2         4  culture         \"En live, le public doit s'amuser imméd...   \n",
       "3         5  culture  De Wes Anderson à la Galerie des offices de Fl...   \n",
       "4         6  culture  \"Même les souris vont au paradis\" : un film d’...   \n",
       "...     ...      ...                                                ...   \n",
       "6499   7021   sports  Ligue 1 : Lyon maîtrise Saint-Etienne dans le ...   \n",
       "6500   7022   sports  Football : le milieu de l'équipe de France You...   \n",
       "6501   7023   sports  Football : l'OM officialise l'arrivée d'Adrien...   \n",
       "6502   7024   sports  Ligue 1 : le match Nantes-Le Havre interrompu ...   \n",
       "6503   7025   sports  Open d'Australie 2024 : \"J'ai beaucoup appris\"...   \n",
       "\n",
       "                           Date  \n",
       "0     2024-08-22T20:40:00+02:00  \n",
       "1     2023-09-03T12:06:33+02:00  \n",
       "2     2024-06-21T11:44:29+02:00  \n",
       "3     2024-11-30T13:31:33+01:00  \n",
       "4     2021-06-14T12:32:20+02:00  \n",
       "...                         ...  \n",
       "6499  2024-11-10T20:06:00+01:00  \n",
       "6500  2024-08-17T17:00:55+02:00  \n",
       "6501  2024-09-17T18:18:54+02:00  \n",
       "6502  2024-11-24T19:44:29+01:00  \n",
       "6503  2024-01-22T17:06:23+01:00  \n",
       "\n",
       "[6504 rows x 4 columns]"
      ]
     },
     "execution_count": 2,
     "metadata": {},
     "output_type": "execute_result"
    }
   ],
   "source": [
    "data_all = pd.read_csv(\"donnees/donnees_final_sans_doublons.csv\")\n",
    "data = data_all[data_all['Date']!=\"Date non trouvée\"].reset_index()\n",
    "\n",
    "data"
   ]
  },
  {
   "cell_type": "code",
   "execution_count": 3,
   "metadata": {},
   "outputs": [
    {
     "name": "stdout",
     "output_type": "stream",
     "text": [
      "6504\n"
     ]
    }
   ],
   "source": [
    "label_map = {\"culture\" :  0, \"monde\": 1, \"meteo\": 2, \"sante\": 3, \"politique\": 4, \"societe\": 5, \"europe\": 6, \"environnement\": 7, \"sports\": 8}\n",
    "inv_label_map = {0: \"culture\", 1: \"monde\", 2: \"meteo\", 3: \"sante\", 4: \"politique\", 5: \"societe\", 6: \"europe\", 7: \"environnement\", 8: \"sports\"}\n",
    "\n",
    "# Conversion des étiquettes en indices numériques\n",
    "labels_numeric = [label_map[label] for label in data['Label']]\n",
    "data['labels_numeric'] = data['Label'].apply(lambda x: label_map[x])\n",
    "print(len(labels_numeric))"
   ]
  },
  {
   "cell_type": "markdown",
   "metadata": {},
   "source": [
    "### 2-a - Importation du modèle"
   ]
  },
  {
   "cell_type": "code",
   "execution_count": 4,
   "metadata": {},
   "outputs": [
    {
     "name": "stderr",
     "output_type": "stream",
     "text": [
      "/home/tristan/.local/lib/python3.10/site-packages/transformers/utils/generic.py:311: UserWarning: torch.utils._pytree._register_pytree_node is deprecated. Please use torch.utils._pytree.register_pytree_node instead.\n",
      "  torch.utils._pytree._register_pytree_node(\n",
      "/home/tristan/.local/lib/python3.10/site-packages/transformers/utils/generic.py:311: UserWarning: torch.utils._pytree._register_pytree_node is deprecated. Please use torch.utils._pytree.register_pytree_node instead.\n",
      "  torch.utils._pytree._register_pytree_node(\n",
      "The tokenizer class you load from this checkpoint is not the same type as the class this function is called from. It may result in unexpected tokenization. \n",
      "The tokenizer class you load from this checkpoint is 'DistilBertTokenizer'. \n",
      "The class this function is called from is 'BertTokenizer'.\n",
      "You are using a model of type distilbert to instantiate a model of type bert. This is not supported for all configurations of models and can yield errors.\n",
      "Some weights of BertForSequenceClassification were not initialized from the model checkpoint at distilbert-base-uncased and are newly initialized: ['encoder.layer.0.attention.self.key.bias', 'encoder.layer.10.output.dense.weight', 'encoder.layer.7.attention.self.query.weight', 'encoder.layer.6.attention.self.query.weight', 'encoder.layer.9.attention.self.query.bias', 'encoder.layer.2.attention.self.value.weight', 'encoder.layer.8.attention.self.value.bias', 'encoder.layer.6.intermediate.dense.bias', 'encoder.layer.0.attention.output.LayerNorm.bias', 'embeddings.position_embeddings.weight', 'encoder.layer.5.attention.output.LayerNorm.weight', 'encoder.layer.2.attention.self.key.weight', 'encoder.layer.8.intermediate.dense.bias', 'encoder.layer.2.attention.self.query.bias', 'encoder.layer.3.attention.self.key.bias', 'encoder.layer.9.attention.self.value.bias', 'encoder.layer.3.attention.output.LayerNorm.bias', 'encoder.layer.7.attention.self.value.weight', 'encoder.layer.10.intermediate.dense.bias', 'encoder.layer.3.output.dense.weight', 'encoder.layer.1.attention.self.query.bias', 'encoder.layer.9.output.dense.bias', 'encoder.layer.10.attention.self.query.bias', 'encoder.layer.1.attention.self.query.weight', 'encoder.layer.7.attention.output.dense.bias', 'encoder.layer.0.intermediate.dense.bias', 'encoder.layer.11.output.dense.bias', 'encoder.layer.1.attention.output.dense.weight', 'encoder.layer.6.attention.self.value.bias', 'encoder.layer.0.output.dense.bias', 'encoder.layer.5.output.dense.weight', 'encoder.layer.6.intermediate.dense.weight', 'encoder.layer.2.intermediate.dense.bias', 'embeddings.word_embeddings.weight', 'encoder.layer.2.attention.self.query.weight', 'classifier.bias', 'encoder.layer.7.intermediate.dense.weight', 'encoder.layer.3.attention.output.LayerNorm.weight', 'encoder.layer.8.output.LayerNorm.bias', 'encoder.layer.6.output.LayerNorm.bias', 'encoder.layer.7.output.LayerNorm.bias', 'encoder.layer.11.output.LayerNorm.bias', 'encoder.layer.2.output.LayerNorm.weight', 'encoder.layer.5.attention.self.key.bias', 'encoder.layer.0.attention.self.query.weight', 'encoder.layer.1.output.dense.bias', 'encoder.layer.9.attention.self.key.bias', 'encoder.layer.6.attention.self.value.weight', 'encoder.layer.4.output.LayerNorm.bias', 'encoder.layer.7.attention.self.query.bias', 'encoder.layer.1.attention.self.value.weight', 'encoder.layer.4.attention.output.dense.weight', 'encoder.layer.2.attention.output.LayerNorm.bias', 'encoder.layer.8.attention.self.query.bias', 'encoder.layer.5.output.LayerNorm.weight', 'encoder.layer.11.intermediate.dense.weight', 'encoder.layer.10.attention.self.value.weight', 'encoder.layer.1.intermediate.dense.weight', 'encoder.layer.8.attention.output.LayerNorm.weight', 'encoder.layer.8.attention.self.key.bias', 'encoder.layer.10.attention.self.key.bias', 'encoder.layer.9.output.LayerNorm.weight', 'encoder.layer.10.attention.output.LayerNorm.bias', 'encoder.layer.9.attention.output.LayerNorm.bias', 'embeddings.LayerNorm.weight', 'encoder.layer.7.attention.output.LayerNorm.bias', 'encoder.layer.0.attention.self.value.bias', 'encoder.layer.5.output.dense.bias', 'encoder.layer.9.attention.self.query.weight', 'encoder.layer.3.attention.self.query.weight', 'encoder.layer.11.attention.self.query.bias', 'encoder.layer.11.attention.output.dense.bias', 'encoder.layer.9.attention.self.key.weight', 'encoder.layer.6.output.dense.bias', 'encoder.layer.0.attention.self.key.weight', 'encoder.layer.2.attention.self.key.bias', 'encoder.layer.11.attention.output.dense.weight', 'encoder.layer.6.attention.output.dense.weight', 'encoder.layer.10.attention.self.query.weight', 'encoder.layer.5.attention.output.LayerNorm.bias', 'encoder.layer.1.output.LayerNorm.weight', 'encoder.layer.7.attention.self.key.weight', 'encoder.layer.5.attention.output.dense.bias', 'encoder.layer.4.attention.self.key.bias', 'encoder.layer.6.output.LayerNorm.weight', 'encoder.layer.5.attention.self.key.weight', 'encoder.layer.7.output.dense.weight', 'encoder.layer.5.attention.self.query.weight', 'encoder.layer.7.output.LayerNorm.weight', 'encoder.layer.6.attention.self.query.bias', 'encoder.layer.8.output.dense.bias', 'encoder.layer.11.output.dense.weight', 'encoder.layer.1.output.dense.weight', 'encoder.layer.4.attention.self.value.bias', 'encoder.layer.2.output.dense.bias', 'encoder.layer.6.attention.output.LayerNorm.weight', 'encoder.layer.8.attention.self.key.weight', 'encoder.layer.9.intermediate.dense.weight', 'encoder.layer.2.attention.self.value.bias', 'encoder.layer.10.attention.self.key.weight', 'encoder.layer.3.intermediate.dense.weight', 'encoder.layer.4.attention.self.key.weight', 'encoder.layer.4.attention.self.value.weight', 'encoder.layer.3.intermediate.dense.bias', 'encoder.layer.7.attention.self.key.bias', 'encoder.layer.8.output.LayerNorm.weight', 'encoder.layer.0.output.LayerNorm.bias', 'encoder.layer.3.attention.self.query.bias', 'encoder.layer.3.attention.self.value.weight', 'encoder.layer.11.attention.self.value.weight', 'encoder.layer.0.intermediate.dense.weight', 'encoder.layer.4.output.dense.weight', 'encoder.layer.2.output.LayerNorm.bias', 'encoder.layer.0.attention.output.LayerNorm.weight', 'encoder.layer.2.output.dense.weight', 'encoder.layer.1.attention.self.key.bias', 'encoder.layer.4.attention.output.dense.bias', 'encoder.layer.11.attention.self.key.bias', 'encoder.layer.11.attention.self.query.weight', 'encoder.layer.10.attention.output.dense.bias', 'encoder.layer.6.attention.self.key.bias', 'encoder.layer.5.intermediate.dense.bias', 'encoder.layer.1.attention.output.dense.bias', 'encoder.layer.10.output.dense.bias', 'encoder.layer.3.attention.self.value.bias', 'encoder.layer.1.intermediate.dense.bias', 'encoder.layer.2.attention.output.dense.weight', 'encoder.layer.3.output.LayerNorm.weight', 'encoder.layer.11.output.LayerNorm.weight', 'encoder.layer.7.intermediate.dense.bias', 'encoder.layer.8.intermediate.dense.weight', 'encoder.layer.7.attention.output.LayerNorm.weight', 'encoder.layer.0.attention.output.dense.bias', 'pooler.dense.bias', 'encoder.layer.0.output.LayerNorm.weight', 'classifier.weight', 'encoder.layer.6.attention.output.LayerNorm.bias', 'encoder.layer.4.attention.self.query.bias', 'encoder.layer.2.attention.output.dense.bias', 'encoder.layer.4.attention.output.LayerNorm.bias', 'encoder.layer.10.intermediate.dense.weight', 'encoder.layer.3.output.LayerNorm.bias', 'encoder.layer.1.attention.self.key.weight', 'encoder.layer.8.attention.self.value.weight', 'encoder.layer.3.attention.output.dense.weight', 'encoder.layer.4.attention.output.LayerNorm.weight', 'encoder.layer.6.attention.self.key.weight', 'encoder.layer.8.attention.output.dense.bias', 'encoder.layer.5.attention.self.value.bias', 'encoder.layer.9.attention.output.dense.bias', 'encoder.layer.9.output.LayerNorm.bias', 'encoder.layer.8.output.dense.weight', 'encoder.layer.7.attention.self.value.bias', 'encoder.layer.0.attention.self.query.bias', 'encoder.layer.4.intermediate.dense.bias', 'encoder.layer.10.attention.output.LayerNorm.weight', 'encoder.layer.11.attention.self.key.weight', 'encoder.layer.4.output.LayerNorm.weight', 'encoder.layer.0.output.dense.weight', 'encoder.layer.3.attention.output.dense.bias', 'encoder.layer.11.attention.self.value.bias', 'encoder.layer.11.attention.output.LayerNorm.bias', 'encoder.layer.7.output.dense.bias', 'encoder.layer.8.attention.output.LayerNorm.bias', 'encoder.layer.1.attention.output.LayerNorm.bias', 'encoder.layer.5.attention.output.dense.weight', 'encoder.layer.4.intermediate.dense.weight', 'encoder.layer.6.output.dense.weight', 'encoder.layer.9.output.dense.weight', 'embeddings.token_type_embeddings.weight', 'encoder.layer.3.attention.self.key.weight', 'encoder.layer.5.attention.self.query.bias', 'encoder.layer.10.attention.output.dense.weight', 'encoder.layer.9.intermediate.dense.bias', 'encoder.layer.10.attention.self.value.bias', 'encoder.layer.8.attention.self.query.weight', 'encoder.layer.3.output.dense.bias', 'encoder.layer.4.attention.self.query.weight', 'encoder.layer.6.attention.output.dense.bias', 'encoder.layer.10.output.LayerNorm.bias', 'pooler.dense.weight', 'encoder.layer.9.attention.self.value.weight', 'encoder.layer.9.attention.output.LayerNorm.weight', 'encoder.layer.4.output.dense.bias', 'encoder.layer.0.attention.output.dense.weight', 'encoder.layer.5.intermediate.dense.weight', 'encoder.layer.5.attention.self.value.weight', 'encoder.layer.2.intermediate.dense.weight', 'encoder.layer.10.output.LayerNorm.weight', 'encoder.layer.8.attention.output.dense.weight', 'encoder.layer.9.attention.output.dense.weight', 'encoder.layer.1.output.LayerNorm.bias', 'embeddings.LayerNorm.bias', 'encoder.layer.11.attention.output.LayerNorm.weight', 'encoder.layer.5.output.LayerNorm.bias', 'encoder.layer.0.attention.self.value.weight', 'encoder.layer.2.attention.output.LayerNorm.weight', 'encoder.layer.11.intermediate.dense.bias', 'encoder.layer.7.attention.output.dense.weight', 'encoder.layer.1.attention.output.LayerNorm.weight', 'encoder.layer.1.attention.self.value.bias']\n",
      "You should probably TRAIN this model on a down-stream task to be able to use it for predictions and inference.\n"
     ]
    }
   ],
   "source": [
    "from transformers import BertTokenizer,BertForSequenceClassification\n",
    "\n",
    "model_name = 'distilbert-base-uncased'\n",
    "tokenizer = BertTokenizer.from_pretrained(model_name)\n",
    "model = BertForSequenceClassification.from_pretrained(model_name, num_labels=9)\n",
    "\n",
    "max_len = 128\n",
    "encodings = tokenizer(data['Titre'].astype(str).tolist(), padding=True, truncation=True, max_length=max_len, return_tensors='pt')\n",
    "\n"
   ]
  },
  {
   "cell_type": "markdown",
   "metadata": {},
   "source": [
    "### 2-b Preprocessing des données"
   ]
  },
  {
   "cell_type": "code",
   "execution_count": 5,
   "metadata": {},
   "outputs": [],
   "source": [
    "import random\n",
    "from torch.utils.data import Dataset, DataLoader\n",
    "\n",
    "class AugmentedTextDataset(Dataset):\n",
    "    def __init__(self, texts, labels, tokenizer, max_len, blacklist_words=None, remove_random=False, remove_prob=0.4, shuffle_prob=0.1,\n",
    "                 train=True):\n",
    "        \"\"\"\n",
    "        Dataset personnalisé pour appliquer des augmentations de texte dynamiques.\n",
    "        \n",
    "        Args:\n",
    "            texts (list of str): Textes bruts.\n",
    "            labels (list of int): Labels correspondants.\n",
    "            tokenizer: Tokeniseur (par ex. de transformers).\n",
    "            max_len (int): Longueur maximale des séquences.\n",
    "            blacklist_words (list of str): Liste noire de mots à supprimer.\n",
    "            remove_random (bool): Si True, supprime des mots au hasard.\n",
    "            remove_prob (float): Fraction de mots à supprimer aléatoirement.\n",
    "            shuffle_prob (float): Probabilité de mélanger les mots.\n",
    "        \"\"\"\n",
    "        self.texts = texts\n",
    "        self.labels = labels\n",
    "        self.tokenizer = tokenizer\n",
    "        self.max_len = max_len\n",
    "        self.blacklist_words = blacklist_words or []\n",
    "        self.remove_random = remove_random\n",
    "        self.remove_prob = remove_prob\n",
    "        self.shuffle_prob = shuffle_prob\n",
    "        self.train = train\n",
    "\n",
    "    def __len__(self):\n",
    "        return len(self.texts)\n",
    "\n",
    "    def augment_text(self, text):\n",
    "        \"\"\"\n",
    "        Applique des transformations aléatoires sur un texte.\n",
    "        \"\"\"\n",
    "        if self.train:\n",
    "            words = text.split()\n",
    "\n",
    "            # Supprimer les mots de la liste noire\n",
    "            words = [word for word in words if word.lower() not in self.blacklist_words]\n",
    "\n",
    "            # Supprimer des mots aléatoirement\n",
    "            if self.remove_random:\n",
    "                num_to_remove = int(len(words) * self.remove_prob)\n",
    "                words = [word for i, word in enumerate(words) if i not in random.sample(range(len(words)), num_to_remove)]\n",
    "\n",
    "            # Mélanger les mots aléatoirement\n",
    "            if random.random() < self.shuffle_prob:\n",
    "                random.shuffle(words)\n",
    "\n",
    "            return ' '.join(words)\n",
    "        else:\n",
    "            return text\n",
    "\n",
    "    def __getitem__(self, idx):\n",
    "        \"\"\"\n",
    "        Récupère un échantillon transformé et tokenisé.\n",
    "        \"\"\"\n",
    "        text = self.texts[idx]\n",
    "        label = self.labels[idx]\n",
    "\n",
    "        # Appliquer des augmentations aléatoires\n",
    "        augmented_text = self.augment_text(text)\n",
    "\n",
    "        # Tokenisation\n",
    "        encoding = self.tokenizer(\n",
    "            augmented_text,\n",
    "            padding='max_length',\n",
    "            truncation=True,\n",
    "            max_length=self.max_len,\n",
    "            return_tensors='pt',\n",
    "        )\n",
    "\n",
    "        input_ids = encoding['input_ids'].squeeze(0)  # Enlever la dimension batch\n",
    "        attention_mask = encoding['attention_mask'].squeeze(0)\n",
    "\n",
    "        return input_ids, attention_mask, label\n",
    "\n"
   ]
  },
  {
   "cell_type": "markdown",
   "metadata": {},
   "source": [
    "### 3 - Découpage des données"
   ]
  },
  {
   "cell_type": "code",
   "execution_count": 6,
   "metadata": {},
   "outputs": [
    {
     "name": "stdout",
     "output_type": "stream",
     "text": [
      "6504\n"
     ]
    }
   ],
   "source": [
    "from sklearn.model_selection import train_test_split\n",
    "\n",
    "\n",
    "data_sort = data[data['Date']!= \"Date non trouvée\"].sort_values(by='Date')\n",
    "\n",
    "test_size = 0.1  \n",
    "val_size = 0.2  \n",
    "\n",
    "n_total = len(data_sort)\n",
    "n_test = int(n_total * test_size)\n",
    "n_train_val = n_total - n_test\n",
    "n_val = int(n_train_val * val_size)\n",
    "\n",
    "# Découper les ensembles\n",
    "train_data = data_sort.iloc[:n_train_val - n_val]\n",
    "validation_data = data_sort.iloc[n_train_val - n_val:n_train_val]\n",
    "test_data = data_sort.iloc[n_train_val:]\n",
    "\n",
    "# Extraire les textes et les labels\n",
    "train_texts = train_data['Titre'].astype(str).tolist()\n",
    "train_labels = train_data['labels_numeric'].tolist()\n",
    "\n",
    "validation_texts = validation_data['Titre'].astype(str).tolist()\n",
    "validation_labels = validation_data['labels_numeric'].tolist()\n",
    "\n",
    "test_texts = test_data['Titre'].astype(str).tolist()\n",
    "test_labels = test_data['labels_numeric'].tolist()\n",
    "\n",
    "print(n_total)\n",
    "\n",
    "blacklist_words = [\"au\", \"du\", \"le\", \"la\", \"les\", \"un\", \"une\", \"et\", \"ou\", \"l'\", \"il\"]\n",
    "\n",
    "# Création des datasets\n",
    "train_dataset = AugmentedTextDataset(\n",
    "    texts=train_texts,\n",
    "    labels=train_labels,\n",
    "    tokenizer=tokenizer,\n",
    "    max_len=max_len,\n",
    "    blacklist_words=blacklist_words,\n",
    "    remove_random=True,\n",
    "    remove_prob=0.1,\n",
    "    shuffle_prob=0.0,\n",
    "    train=True\n",
    ")\n",
    "\n",
    "validation_dataset = AugmentedTextDataset(\n",
    "    texts=validation_texts,\n",
    "    labels=validation_labels,\n",
    "    tokenizer=tokenizer,\n",
    "    max_len=max_len,\n",
    "    blacklist_words=None,  \n",
    "    remove_random=False,\n",
    "    remove_prob=0,\n",
    "    shuffle_prob=0,\n",
    "    train=False\n",
    ")\n",
    "\n",
    "test_dataset = AugmentedTextDataset(\n",
    "    texts=test_texts,\n",
    "    labels=test_labels,\n",
    "    tokenizer=tokenizer,\n",
    "    max_len=max_len,\n",
    "    blacklist_words=None,  \n",
    "    remove_random=False,\n",
    "    remove_prob=0,\n",
    "    shuffle_prob=0,\n",
    "    train=False\n",
    ")\n",
    "\n",
    "# Création des DataLoaders\n",
    "train_dataloader = DataLoader(train_dataset, batch_size=16, shuffle=True)\n",
    "validation_dataloader = DataLoader(validation_dataset, batch_size=16, shuffle=False)\n",
    "test_dataloader = DataLoader(test_dataset, batch_size=16, shuffle=False)\n"
   ]
  },
  {
   "cell_type": "markdown",
   "metadata": {},
   "source": [
    "### 4 - Entrainement du modèle"
   ]
  },
  {
   "cell_type": "code",
   "execution_count": 7,
   "metadata": {},
   "outputs": [
    {
     "name": "stdout",
     "output_type": "stream",
     "text": [
      "cuda\n",
      "Nom : classifier.weight, requires_grad : True\n",
      "Nom : classifier.bias, requires_grad : True\n"
     ]
    }
   ],
   "source": [
    "import torch\n",
    "from transformers import AdamW\n",
    "from tqdm import tqdm\n",
    "import matplotlib.pyplot as plt\n",
    "\n",
    "# Vérification de l'availability du GPU\n",
    "device = torch.device(\"cuda\" if torch.cuda.is_available() else \"cpu\")\n",
    "print(device)\n",
    "# Déplacer le modèle sur le GPU si disponible\n",
    "model.to(device)\n",
    "\n",
    "#Congeler les premières couches du modèle\n",
    "for param in model.base_model.parameters():\n",
    "    param.requires_grad = False\n",
    "\n",
    "for param in model.classifier.parameters():\n",
    "    param.requires_grad = True\n",
    "\n",
    "\n",
    "# Vérifier les paramètres avant d'exécuter le code\n",
    "for name, param in model.named_parameters():\n",
    "    if 'classifier' in name:  # Vérifier spécifiquement les paramètres de la couche classifier\n",
    "        print(f\"Nom : {name}, requires_grad : {param.requires_grad}\")"
   ]
  },
  {
   "cell_type": "code",
   "execution_count": 8,
   "metadata": {},
   "outputs": [
    {
     "name": "stderr",
     "output_type": "stream",
     "text": [
      "/home/tristan/.local/lib/python3.10/site-packages/transformers/optimization.py:411: FutureWarning: This implementation of AdamW is deprecated and will be removed in a future version. Use the PyTorch implementation torch.optim.AdamW instead, or set `no_deprecation_warning=True` to disable this warning\n",
      "  warnings.warn(\n"
     ]
    },
    {
     "name": "stdout",
     "output_type": "stream",
     "text": [
      "Epoch [1/30]\n"
     ]
    },
    {
     "name": "stderr",
     "output_type": "stream",
     "text": [
      "                                                                            \r"
     ]
    },
    {
     "name": "stdout",
     "output_type": "stream",
     "text": [
      "Epoch [1/30], Train Loss: 9.6372, Validation Loss: 11.8157\n",
      "Epoch [2/30]\n"
     ]
    },
    {
     "name": "stderr",
     "output_type": "stream",
     "text": [
      "                                                                            \r"
     ]
    },
    {
     "name": "stdout",
     "output_type": "stream",
     "text": [
      "Epoch [2/30], Train Loss: 10.6452, Validation Loss: 8.8581\n",
      "Epoch [3/30]\n"
     ]
    },
    {
     "name": "stderr",
     "output_type": "stream",
     "text": [
      "                                                                            \r"
     ]
    },
    {
     "name": "stdout",
     "output_type": "stream",
     "text": [
      "Epoch [3/30], Train Loss: 10.6727, Validation Loss: 8.3714\n",
      "Epoch [4/30]\n"
     ]
    },
    {
     "name": "stderr",
     "output_type": "stream",
     "text": [
      "                                                                            \r"
     ]
    },
    {
     "name": "stdout",
     "output_type": "stream",
     "text": [
      "Epoch [4/30], Train Loss: 10.9725, Validation Loss: 7.5948\n",
      "Epoch [5/30]\n"
     ]
    },
    {
     "name": "stderr",
     "output_type": "stream",
     "text": [
      "                                                                            \r"
     ]
    },
    {
     "name": "stdout",
     "output_type": "stream",
     "text": [
      "Epoch [5/30], Train Loss: 11.6496, Validation Loss: 9.6494\n",
      "Epoch [6/30]\n"
     ]
    },
    {
     "name": "stderr",
     "output_type": "stream",
     "text": [
      "                                                                            \r"
     ]
    },
    {
     "name": "stdout",
     "output_type": "stream",
     "text": [
      "Epoch [6/30], Train Loss: 11.8891, Validation Loss: 19.0012\n",
      "Epoch [7/30]\n"
     ]
    },
    {
     "name": "stderr",
     "output_type": "stream",
     "text": [
      "                                                                           \r"
     ]
    },
    {
     "ename": "KeyboardInterrupt",
     "evalue": "",
     "output_type": "error",
     "traceback": [
      "\u001b[0;31m---------------------------------------------------------------------------\u001b[0m",
      "\u001b[0;31mKeyboardInterrupt\u001b[0m                         Traceback (most recent call last)",
      "Cell \u001b[0;32mIn[8], line 51\u001b[0m\n\u001b[1;32m     48\u001b[0m optimizer\u001b[38;5;241m.\u001b[39mzero_grad()\n\u001b[1;32m     50\u001b[0m \u001b[38;5;66;03m# Ajouter la perte de ce batch à la perte totale\u001b[39;00m\n\u001b[0;32m---> 51\u001b[0m total_train_loss \u001b[38;5;241m+\u001b[39m\u001b[38;5;241m=\u001b[39m \u001b[43mloss\u001b[49m\u001b[38;5;241;43m.\u001b[39;49m\u001b[43mitem\u001b[49m\u001b[43m(\u001b[49m\u001b[43m)\u001b[49m\n\u001b[1;32m     53\u001b[0m \u001b[38;5;66;03m# Mettre à jour tqdm\u001b[39;00m\n\u001b[1;32m     54\u001b[0m train_progress\u001b[38;5;241m.\u001b[39mset_postfix({\u001b[38;5;124m\"\u001b[39m\u001b[38;5;124mBatch Loss\u001b[39m\u001b[38;5;124m\"\u001b[39m: loss\u001b[38;5;241m.\u001b[39mitem()})\n",
      "\u001b[0;31mKeyboardInterrupt\u001b[0m: "
     ]
    }
   ],
   "source": [
    "from transformers import AdamW\n",
    "from tqdm import tqdm\n",
    "import torch\n",
    "import matplotlib.pyplot as plt\n",
    "\n",
    "# Vérifier si un GPU est disponible\n",
    "device = torch.device(\"cuda\" if torch.cuda.is_available() else \"cpu\")\n",
    "model = model.to(device)  # Déplacer le modèle sur le GPU\n",
    "\n",
    "# Optimiseur\n",
    "optimizer = AdamW(model.parameters(), lr=1e-1)\n",
    "\n",
    "# Variables pour stocker les pertes\n",
    "train_losses = []\n",
    "val_losses = []\n",
    "\n",
    "# Nombre d'époques\n",
    "nb_epoch = 30\n",
    "\n",
    "# Boucle d'entraînement\n",
    "for epoch in range(nb_epoch):\n",
    "    print(f\"Epoch [{epoch+1}/{nb_epoch}]\")\n",
    "    \n",
    "    # Phase d'entraînement\n",
    "    model.train()\n",
    "    total_train_loss = 0\n",
    "    train_progress = tqdm(train_dataloader, desc=\"Training\", leave=False)\n",
    "    \n",
    "    for batch in train_progress:\n",
    "        # Déplacer les données sur le GPU\n",
    "        input_ids = batch[0].to(device)\n",
    "        attention_mask = batch[1].to(device)\n",
    "        labels = batch[2].to(device)\n",
    "        \n",
    "        # Propagation avant (forward pass)\n",
    "        outputs = model(input_ids=input_ids, \n",
    "                        attention_mask=attention_mask, \n",
    "                        labels=labels)\n",
    "        \n",
    "        # La perte est automatiquement calculée par le modèle avec CrossEntropyLoss\n",
    "        loss = outputs.loss\n",
    "        \n",
    "        # Rétropropagation (backpropagation)\n",
    "        loss.backward()\n",
    "        \n",
    "        # Optimisation des paramètres du modèle\n",
    "        optimizer.step()\n",
    "        optimizer.zero_grad()\n",
    "        \n",
    "        # Ajouter la perte de ce batch à la perte totale\n",
    "        total_train_loss += loss.item()\n",
    "        \n",
    "        # Mettre à jour tqdm\n",
    "        train_progress.set_postfix({\"Batch Loss\": loss.item()})\n",
    "\n",
    "    # Calcul de la perte moyenne pour l'entraînement\n",
    "    avg_train_loss = total_train_loss / len(train_dataloader)\n",
    "    train_losses.append(avg_train_loss)\n",
    "    \n",
    "    # Phase de validation\n",
    "    model.eval()\n",
    "    total_val_loss = 0\n",
    "    val_progress = tqdm(validation_dataloader, desc=\"Validating\", leave=False)\n",
    "    \n",
    "    with torch.no_grad():  # Désactive la rétropropagation pour économiser de la mémoire\n",
    "        for batch in val_progress:\n",
    "            # Déplacer les données sur le GPU\n",
    "            input_ids = batch[0].to(device)\n",
    "            attention_mask = batch[1].to(device)\n",
    "            labels = batch[2].to(device)\n",
    "            \n",
    "            # Propagation avant (forward pass)\n",
    "            outputs = model(input_ids=input_ids, \n",
    "                            attention_mask=attention_mask, \n",
    "                            labels=labels)\n",
    "            \n",
    "            # La perte de validation\n",
    "            val_loss = outputs.loss\n",
    "            total_val_loss += val_loss.item()\n",
    "            \n",
    "            # Mettre à jour tqdm\n",
    "            val_progress.set_postfix({\"Batch Loss\": val_loss.item()})\n",
    "\n",
    "    # Calcul de la perte moyenne pour la validation\n",
    "    avg_val_loss = total_val_loss / len(validation_dataloader)\n",
    "    val_losses.append(avg_val_loss)\n",
    "    \n",
    "    # Affichage des pertes\n",
    "    print(f\"Epoch [{epoch+1}/{nb_epoch}], Train Loss: {avg_train_loss:.4f}, Validation Loss: {avg_val_loss:.4f}\")\n",
    "\n",
    "# Affichage des courbes de perte d'entraînement et de validation\n",
    "plt.figure(figsize=(10, 6))\n",
    "plt.plot(range(1, nb_epoch + 1), train_losses, label='Train Loss', color='blue')\n",
    "plt.plot(range(1, nb_epoch + 1), val_losses, label='Validation Loss', color='red')\n",
    "plt.title('Loss Curve')\n",
    "plt.xlabel('Epoch')\n",
    "plt.ylabel('Loss')\n",
    "plt.legend()\n",
    "plt.grid(True)\n",
    "plt.show()\n"
   ]
  },
  {
   "cell_type": "code",
   "execution_count": null,
   "metadata": {},
   "outputs": [],
   "source": [
    "device = torch.device(\"cuda\" if torch.cuda.is_available() else \"cpu\")\n",
    "\n",
    "#Congeler les premières couches du modèle\n",
    "for param in model.base_model.parameters():\n",
    "    param.requires_grad = True\n",
    "\n",
    "for param in model.classifier.parameters():\n",
    "    param.requires_grad = False\n"
   ]
  },
  {
   "cell_type": "code",
   "execution_count": null,
   "metadata": {},
   "outputs": [],
   "source": [
    "from transformers import AdamW\n",
    "from tqdm import tqdm\n",
    "import torch\n",
    "import matplotlib.pyplot as plt\n",
    "\n",
    "# Vérifier si un GPU est disponible\n",
    "device = torch.device(\"cuda\" if torch.cuda.is_available() else \"cpu\")\n",
    "model = model.to(device)  # Déplacer le modèle sur le GPU\n",
    "\n",
    "# Optimiseur\n",
    "optimizer = AdamW(model.parameters(), lr=1e-6)\n",
    "\n",
    "# Variables pour stocker les pertes\n",
    "train_losses = []\n",
    "val_losses = []\n",
    "\n",
    "# Nombre d'époques\n",
    "nb_epoch = 3\n",
    "\n",
    "# Boucle d'entraînement\n",
    "for epoch in range(nb_epoch):\n",
    "    print(f\"Epoch [{epoch+1}/{nb_epoch}]\")\n",
    "    \n",
    "    # Phase d'entraînement\n",
    "    model.train()\n",
    "    total_train_loss = 0\n",
    "    train_progress = tqdm(train_dataloader, desc=\"Training\", leave=False)\n",
    "    \n",
    "    for batch in train_progress:\n",
    "        # Déplacer les données sur le GPU\n",
    "        input_ids = batch[0].to(device)\n",
    "        attention_mask = batch[1].to(device)\n",
    "        labels = batch[2].to(device)\n",
    "        \n",
    "        # Propagation avant (forward pass)\n",
    "        outputs = model(input_ids=input_ids, \n",
    "                        attention_mask=attention_mask, \n",
    "                        labels=labels)\n",
    "        \n",
    "        # La perte est automatiquement calculée par le modèle avec CrossEntropyLoss\n",
    "        loss = outputs.loss\n",
    "        \n",
    "        # Rétropropagation (backpropagation)\n",
    "        loss.backward()\n",
    "        \n",
    "        # Optimisation des paramètres du modèle\n",
    "        optimizer.step()\n",
    "        optimizer.zero_grad()\n",
    "        \n",
    "        # Ajouter la perte de ce batch à la perte totale\n",
    "        total_train_loss += loss.item()\n",
    "        \n",
    "        # Mettre à jour tqdm\n",
    "        train_progress.set_postfix({\"Batch Loss\": loss.item()})\n",
    "\n",
    "    # Calcul de la perte moyenne pour l'entraînement\n",
    "    avg_train_loss = total_train_loss / len(train_dataloader)\n",
    "    train_losses.append(avg_train_loss)\n",
    "    \n",
    "    # Phase de validation\n",
    "    model.eval()\n",
    "    total_val_loss = 0\n",
    "    val_progress = tqdm(validation_dataloader, desc=\"Validating\", leave=False)\n",
    "    \n",
    "    with torch.no_grad():  # Désactive la rétropropagation pour économiser de la mémoire\n",
    "        for batch in val_progress:\n",
    "            # Déplacer les données sur le GPU\n",
    "            input_ids = batch[0].to(device)\n",
    "            attention_mask = batch[1].to(device)\n",
    "            labels = batch[2].to(device)\n",
    "            \n",
    "            # Propagation avant (forward pass)\n",
    "            outputs = model(input_ids=input_ids, \n",
    "                            attention_mask=attention_mask, \n",
    "                            labels=labels)\n",
    "            \n",
    "            # La perte de validation\n",
    "            val_loss = outputs.loss\n",
    "            total_val_loss += val_loss.item()\n",
    "            \n",
    "            # Mettre à jour tqdm\n",
    "            val_progress.set_postfix({\"Batch Loss\": val_loss.item()})\n",
    "\n",
    "    # Calcul de la perte moyenne pour la validation\n",
    "    avg_val_loss = total_val_loss / len(validation_dataloader)\n",
    "    val_losses.append(avg_val_loss)\n",
    "    \n",
    "    # Affichage des pertes\n",
    "    print(f\"Epoch [{epoch+1}/{nb_epoch}], Train Loss: {avg_train_loss:.4f}, Validation Loss: {avg_val_loss:.4f}\")\n",
    "\n",
    "# Affichage des courbes de perte d'entraînement et de validation\n",
    "plt.figure(figsize=(10, 6))\n",
    "plt.plot(range(1, nb_epoch + 1), train_losses, label='Train Loss', color='blue')\n",
    "plt.plot(range(1, nb_epoch + 1), val_losses, label='Validation Loss', color='red')\n",
    "plt.title('Loss Curve')\n",
    "plt.xlabel('Epoch')\n",
    "plt.ylabel('Loss')\n",
    "plt.legend()\n",
    "plt.grid(True)\n",
    "plt.show()\n"
   ]
  },
  {
   "cell_type": "markdown",
   "metadata": {},
   "source": [
    "### 5 - Validation du modèle"
   ]
  },
  {
   "cell_type": "code",
   "execution_count": null,
   "metadata": {},
   "outputs": [
    {
     "name": "stdout",
     "output_type": "stream",
     "text": [
      "Validation Loss: 0.8570639320782253\n"
     ]
    },
    {
     "data": {
      "image/png": "[encoded data removed]",
      "text/plain": [
       "<Figure size 640x480 with 2 Axes>"
      ]
     },
     "metadata": {},
     "output_type": "display_data"
    }
   ],
   "source": [
    "import torch\n",
    "from sklearn.metrics import confusion_matrix, ConfusionMatrixDisplay\n",
    "import matplotlib.pyplot as plt\n",
    "\n",
    "model.cpu()\n",
    "\n",
    "model.eval()\n",
    "\n",
    "all_predictions = []\n",
    "all_labels = []\n",
    "\n",
    "test_loss = 0\n",
    "for batch in test_dataloader:\n",
    "    input_ids, attention_mask, labels = batch\n",
    "\n",
    "    with torch.no_grad():\n",
    "        outputs = model(input_ids=input_ids, \n",
    "                        attention_mask=attention_mask, \n",
    "                        labels=labels)\n",
    "        \n",
    "    test_loss += outputs.loss.item()\n",
    "\n",
    "    predictions = torch.argmax(outputs.logits, dim=1)\n",
    "    \n",
    "    all_predictions.extend(predictions.cpu().numpy())\n",
    "    all_labels.extend(labels.cpu().numpy())\n",
    "\n",
    "test_loss = test_loss / len(test_dataloader)\n",
    "print(f\"Validation Loss: {test_loss}\")\n",
    "\n",
    "all_labels_name= [inv_label_map[x] for x in all_labels]\n",
    "all_predictions_name = [inv_label_map[x] for x in all_predictions]\n",
    "\n",
    "# Matrice de confusion\n",
    "cm = confusion_matrix(all_labels, all_predictions)\n",
    "display = ConfusionMatrixDisplay(confusion_matrix=cm, display_labels=[inv_label_map[i] for i in range(6)])\n",
    "display.plot(cmap=plt.cm.Reds)\n",
    "plt.title(\"Matrice de Confusion\")\n",
    "plt.show()"
   ]
  },
  {
   "cell_type": "code",
   "execution_count": null,
   "metadata": {},
   "outputs": [],
   "source": [
    "from sklearn.metrics import accuracy_score, fbeta_score, precision_score, recall_score\n",
    "\n",
    "def calculate_metrics(labels, predictions):\n",
    "    metrics = {}\n",
    "    metrics['accuracy'] = accuracy_score(labels, predictions)\n",
    "    metrics['precision'] = precision_score(labels, predictions, average='weighted')\n",
    "    metrics['recall'] = recall_score(labels, predictions, average='weighted')\n",
    "    metrics['f0.5_score'] = fbeta_score(labels, predictions, beta=0.5, average='weighted')\n",
    "    metrics['f2_score'] = fbeta_score(labels, predictions, beta=2, average='weighted')\n",
    "    metrics['f1_score'] = fbeta_score(labels, predictions, beta=1, average='weighted')\n",
    "    \n",
    "    return metrics"
   ]
  },
  {
   "cell_type": "code",
   "execution_count": null,
   "metadata": {},
   "outputs": [],
   "source": [
    "\n",
    "def calculate_classwise_metrics(labels, predictions):\n",
    "    \n",
    "    metrics_per_class = {}\n",
    "    \n",
    "    \n",
    "    for class_index, class_name in inv_label_map.items():\n",
    "        class_labels = [1 if label == class_index else 0 for label in labels]\n",
    "        class_predictions = [1 if pred == class_index else 0 for pred in predictions]\n",
    "        \n",
    "        metrics_per_class[class_name] = {\n",
    "            'accuracy': accuracy_score(class_labels, class_predictions),\n",
    "            'precision': precision_score(class_labels, class_predictions, zero_division=0),\n",
    "            'recall': recall_score(class_labels, class_predictions, zero_division=0),\n",
    "            'f1_score': fbeta_score(class_labels, class_predictions, beta=1, zero_division=0),\n",
    "            'f0.5_score': fbeta_score(class_labels, class_predictions, beta=0.5, zero_division=0),\n",
    "            'f2_score': fbeta_score(class_labels, class_predictions, beta=2, zero_division=0)\n",
    "        }\n",
    "    \n",
    "    return metrics_per_class\n",
    "\n",
    "def display_classwise_metrics(metrics_per_class):\n",
    "    \n",
    "    class_names = list(metrics_per_class.keys())\n",
    "    metric_names = ['accuracy','precision', 'recall', 'f1_score', 'f0.5_score', 'f2_score']\n",
    "    \n",
    "    donnees = np.array([[metrics_per_class[cls][metric] for metric in metric_names] for cls in class_names])\n",
    "    num_classes, num_metrics = donnees.shape\n",
    "    \n",
    "    x = np.arange(num_metrics) \n",
    "    width = 0.8 / num_classes\n",
    "    fig, ax = plt.subplots(figsize=(10, 6))\n",
    "    \n",
    "    for i in range(num_classes):\n",
    "        ax.bar(x + i * width, donnees[i], width, label=class_names[i])\n",
    "    \n",
    "    ax.set_title(\"Métriques par Classe\", fontsize=16)\n",
    "    ax.set_xticks(x + width * (num_classes - 1) / 2)\n",
    "    ax.set_xticklabels(metric_names, fontsize=12)\n",
    "    ax.set_ylabel(\"Score\", fontsize=14)\n",
    "    ax.set_ylim(0, 1)  \n",
    "    ax.legend(title=\"Classes\", bbox_to_anchor=(1.05, 1), loc='upper left', fontsize=12)\n",
    "    \n",
    "    ax.grid(axis='y', linestyle='--', alpha=0.7)\n",
    "    plt.tight_layout()\n",
    "    plt.show()\n"
   ]
  },
  {
   "cell_type": "code",
   "execution_count": null,
   "metadata": {},
   "outputs": [
    {
     "data": {
      "image/png": "[encoded data removed]",
      "text/plain": [
       "<Figure size 800x500 with 1 Axes>"
      ]
     },
     "metadata": {},
     "output_type": "display_data"
    }
   ],
   "source": [
    "metrics = calculate_metrics(all_labels, all_predictions)\n",
    "\n",
    "metric_names = ['Accuracy', 'Precision', 'Recall', 'F0.5 Score', 'F1 Score', 'F2 Score']\n",
    "metric_values = [\n",
    "    metrics['accuracy'] * 100,\n",
    "    metrics['precision'] * 100,\n",
    "    metrics['recall'] * 100,\n",
    "    metrics['f0.5_score'] * 100,\n",
    "    metrics['f1_score'] * 100,\n",
    "    metrics['f2_score'] * 100\n",
    "]\n",
    "\n",
    "plt.figure(figsize=(8, 5))\n",
    "bars = plt.bar(metric_names, metric_values, color=['blue', 'orange', 'green', 'red'])\n",
    "for bar, value in zip(bars, metric_values):\n",
    "    plt.text(bar.get_x() + bar.get_width() / 2, bar.get_height() - 5,\n",
    "             f\"{value:.2f}%\", ha='center', color='white', fontsize=11)\n",
    "\n",
    "plt.title(\"Métriques de Performance\", fontsize=16)\n",
    "plt.ylabel(\"Pourcentage (%)\", fontsize=12)\n",
    "plt.ylim(0, 100)\n",
    "plt.grid(axis='y', linestyle='--', alpha=0.7)\n",
    "plt.tight_layout()\n",
    "plt.show()\n"
   ]
  },
  {
   "cell_type": "code",
   "execution_count": null,
   "metadata": {},
   "outputs": [
    {
     "data": {
      "image/png": "[encoded data removed]",
      "text/plain": [
       "<Figure size 1000x600 with 1 Axes>"
      ]
     },
     "metadata": {},
     "output_type": "display_data"
    }
   ],
   "source": [
    "display_classwise_metrics(calculate_classwise_metrics(all_labels, all_predictions))"
   ]
  },
  {
   "cell_type": "code",
   "execution_count": null,
   "metadata": {},
   "outputs": [],
   "source": []
  }
 ],
 "metadata": {
  "kernelspec": {
   "display_name": "Python 3",
   "language": "python",
   "name": "python3"
  },
  "language_info": {
   "codemirror_mode": {
    "name": "ipython",
    "version": 3
   },
   "file_extension": ".py",
   "mimetype": "text/x-python",
   "name": "python",
   "nbconvert_exporter": "python",
   "pygments_lexer": "ipython3",
   "version": "3.10.12"
  }
 },
 "nbformat": 4,
 "nbformat_minor": 2
}
