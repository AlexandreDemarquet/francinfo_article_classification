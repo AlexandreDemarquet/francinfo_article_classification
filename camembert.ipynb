{
 "cells": [
  {
   "cell_type": "markdown",
   "metadata": {},
   "source": [
    "# Notebook pour l'utilisation de BERT en Transfert Learning"
   ]
  },
  {
   "cell_type": "markdown",
   "metadata": {},
   "source": [
    "### 1 - Importation des données"
   ]
  },
  {
   "cell_type": "code",
   "execution_count": 1,
   "metadata": {},
   "outputs": [],
   "source": [
    "import numpy as np\n",
    "import pandas as pd\n",
    "import matplotlib.pyplot as plt\n",
    "import random"
   ]
  },
  {
   "cell_type": "code",
   "execution_count": 2,
   "metadata": {},
   "outputs": [
    {
     "data": {
      "text/html": [
       "<div>\n",
       "<style scoped>\n",
       "    .dataframe tbody tr th:only-of-type {\n",
       "        vertical-align: middle;\n",
       "    }\n",
       "\n",
       "    .dataframe tbody tr th {\n",
       "        vertical-align: top;\n",
       "    }\n",
       "\n",
       "    .dataframe thead th {\n",
       "        text-align: right;\n",
       "    }\n",
       "</style>\n",
       "<table border=\"1\" class=\"dataframe\">\n",
       "  <thead>\n",
       "    <tr style=\"text-align: right;\">\n",
       "      <th></th>\n",
       "      <th>Id</th>\n",
       "      <th>Titre</th>\n",
       "      <th>Label</th>\n",
       "    </tr>\n",
       "  </thead>\n",
       "  <tbody>\n",
       "    <tr>\n",
       "      <th>0</th>\n",
       "      <td>c49811e444b22ae37862b9416ba7cecc.html</td>\n",
       "      <td>Photographie</td>\n",
       "      <td>culture</td>\n",
       "    </tr>\n",
       "    <tr>\n",
       "      <th>1</th>\n",
       "      <td>e74b3feeb31ad56e50e62ba0e7ccf2bd.html</td>\n",
       "      <td>Exposition \"Big Bang\" à Paris : dans le viseur...</td>\n",
       "      <td>culture</td>\n",
       "    </tr>\n",
       "    <tr>\n",
       "      <th>2</th>\n",
       "      <td>2ca19e391db2716ea8748588ffd5fc8d.html</td>\n",
       "      <td>Angelina Jolie</td>\n",
       "      <td>culture</td>\n",
       "    </tr>\n",
       "    <tr>\n",
       "      <th>3</th>\n",
       "      <td>ea9de8015b2609a21a6507c515936685.html</td>\n",
       "      <td>Jeu vidéo : Nintendo opère un \"virage à 180 de...</td>\n",
       "      <td>culture</td>\n",
       "    </tr>\n",
       "    <tr>\n",
       "      <th>4</th>\n",
       "      <td>58ad0fe71d3b09ce13ce9a6a1125ec12.html</td>\n",
       "      <td>Jeux Vidéo</td>\n",
       "      <td>culture</td>\n",
       "    </tr>\n",
       "    <tr>\n",
       "      <th>...</th>\n",
       "      <td>...</td>\n",
       "      <td>...</td>\n",
       "      <td>...</td>\n",
       "    </tr>\n",
       "    <tr>\n",
       "      <th>3596</th>\n",
       "      <td>6deb216324a566856c8fdc6d4ad3dced.html</td>\n",
       "      <td>Canoë-Kayak</td>\n",
       "      <td>sports</td>\n",
       "    </tr>\n",
       "    <tr>\n",
       "      <th>3597</th>\n",
       "      <td>266eddd46824d5df3376c2530bcb748c.html</td>\n",
       "      <td>Vendée Globe 2024 : Sam Goodchild reprend la t...</td>\n",
       "      <td>sports</td>\n",
       "    </tr>\n",
       "    <tr>\n",
       "      <th>3598</th>\n",
       "      <td>c15688fc7a0dadc81d54da557db6a5db.html</td>\n",
       "      <td>Mondiaux de cyclisme sur piste</td>\n",
       "      <td>sports</td>\n",
       "    </tr>\n",
       "    <tr>\n",
       "      <th>3599</th>\n",
       "      <td>9f9f0764a852634a4f115bb790acdccd.html</td>\n",
       "      <td>Ligue des champions : revivez la défaite en to...</td>\n",
       "      <td>sports</td>\n",
       "    </tr>\n",
       "    <tr>\n",
       "      <th>3600</th>\n",
       "      <td>eae30a2e78eba75db18e8da123195f9f.html</td>\n",
       "      <td>Equipe de France de football</td>\n",
       "      <td>sports</td>\n",
       "    </tr>\n",
       "  </tbody>\n",
       "</table>\n",
       "<p>3601 rows × 3 columns</p>\n",
       "</div>"
      ],
      "text/plain": [
       "                                         Id  \\\n",
       "0     c49811e444b22ae37862b9416ba7cecc.html   \n",
       "1     e74b3feeb31ad56e50e62ba0e7ccf2bd.html   \n",
       "2     2ca19e391db2716ea8748588ffd5fc8d.html   \n",
       "3     ea9de8015b2609a21a6507c515936685.html   \n",
       "4     58ad0fe71d3b09ce13ce9a6a1125ec12.html   \n",
       "...                                     ...   \n",
       "3596  6deb216324a566856c8fdc6d4ad3dced.html   \n",
       "3597  266eddd46824d5df3376c2530bcb748c.html   \n",
       "3598  c15688fc7a0dadc81d54da557db6a5db.html   \n",
       "3599  9f9f0764a852634a4f115bb790acdccd.html   \n",
       "3600  eae30a2e78eba75db18e8da123195f9f.html   \n",
       "\n",
       "                                                  Titre    Label  \n",
       "0                                          Photographie  culture  \n",
       "1     Exposition \"Big Bang\" à Paris : dans le viseur...  culture  \n",
       "2                                        Angelina Jolie  culture  \n",
       "3     Jeu vidéo : Nintendo opère un \"virage à 180 de...  culture  \n",
       "4                                            Jeux Vidéo  culture  \n",
       "...                                                 ...      ...  \n",
       "3596                                        Canoë-Kayak   sports  \n",
       "3597  Vendée Globe 2024 : Sam Goodchild reprend la t...   sports  \n",
       "3598                     Mondiaux de cyclisme sur piste   sports  \n",
       "3599  Ligue des champions : revivez la défaite en to...   sports  \n",
       "3600                       Equipe de France de football   sports  \n",
       "\n",
       "[3601 rows x 3 columns]"
      ]
     },
     "execution_count": 2,
     "metadata": {},
     "output_type": "execute_result"
    }
   ],
   "source": [
    "data = pd.read_csv(\"scrapping_script/donnees_labelisees_3600.csv\")\n",
    "data"
   ]
  },
  {
   "cell_type": "code",
   "execution_count": 3,
   "metadata": {},
   "outputs": [
    {
     "name": "stdout",
     "output_type": "stream",
     "text": [
      "3601\n"
     ]
    }
   ],
   "source": [
    "label_map = {\"culture\" :  0, \"monde\": 1, \"meteo\": 2, \"sante\": 3, \"politique\": 4, \"societe\": 5, \"europe\": 6, \"environnement\": 7, \"sports\": 8}\n",
    "inv_label_map = {0: \"culture\", 1: \"monde\", 2: \"meteo\", 3: \"sante\", 4: \"politique\", 5: \"societe\", 6: \"europe\", 7: \"environnement\", 8: \"sports\"}\n",
    "inv_label_map_to_keep = {0: \"culture\", 1: \"monde\", 2: \"meteo\", 3: \"sante\", 4: \"politique\", 5: \"societe\"}\n",
    "\n",
    "# Conversion des étiquettes en indices numériques\n",
    "labels_numeric = [label_map[label] for label in data['Label']]\n",
    "print(len(labels_numeric))"
   ]
  },
  {
   "cell_type": "markdown",
   "metadata": {},
   "source": [
    "### 2-a - Importation du modèle"
   ]
  },
  {
   "cell_type": "code",
   "execution_count": 4,
   "metadata": {},
   "outputs": [],
   "source": [
    "# from transformers import BertTokenizer,BertForSequenceClassification\n",
    "\n",
    "# model_name = 'distilbert-base-uncased'\n",
    "# tokenizer = BertTokenizer.from_pretrained(model_name)\n",
    "# max_len = 128\n",
    "# encodings = tokenizer(data['Titre'].astype(str).tolist(), padding=True, truncation=True, max_length=max_len, return_tensors='pt')\n",
    "# model = BertForSequenceClassification.from_pretrained(model_name, num_labels=9)"
   ]
  },
  {
   "cell_type": "code",
   "execution_count": 5,
   "metadata": {},
   "outputs": [
    {
     "name": "stderr",
     "output_type": "stream",
     "text": [
      "/home/gris/miniforge3/lib/python3.10/site-packages/tqdm/auto.py:21: TqdmWarning: IProgress not found. Please update jupyter and ipywidgets. See https://ipywidgets.readthedocs.io/en/stable/user_install.html\n",
      "  from .autonotebook import tqdm as notebook_tqdm\n",
      "2024-12-04 19:00:26.855993: I tensorflow/core/util/port.cc:153] oneDNN custom operations are on. You may see slightly different numerical results due to floating-point round-off errors from different computation orders. To turn them off, set the environment variable `TF_ENABLE_ONEDNN_OPTS=0`.\n",
      "2024-12-04 19:00:26.948309: E external/local_xla/xla/stream_executor/cuda/cuda_fft.cc:477] Unable to register cuFFT factory: Attempting to register factory for plugin cuFFT when one has already been registered\n",
      "WARNING: All log messages before absl::InitializeLog() is called are written to STDERR\n",
      "E0000 00:00:1733335226.987902    5449 cuda_dnn.cc:8310] Unable to register cuDNN factory: Attempting to register factory for plugin cuDNN when one has already been registered\n",
      "E0000 00:00:1733335226.998748    5449 cuda_blas.cc:1418] Unable to register cuBLAS factory: Attempting to register factory for plugin cuBLAS when one has already been registered\n",
      "2024-12-04 19:00:27.088533: I tensorflow/core/platform/cpu_feature_guard.cc:210] This TensorFlow binary is optimized to use available CPU instructions in performance-critical operations.\n",
      "To enable the following instructions: AVX2 AVX_VNNI FMA, in other operations, rebuild TensorFlow with the appropriate compiler flags.\n",
      "Some weights of CamembertForSequenceClassification were not initialized from the model checkpoint at camembert-base and are newly initialized: ['classifier.dense.bias', 'classifier.dense.weight', 'classifier.out_proj.bias', 'classifier.out_proj.weight']\n",
      "You should probably TRAIN this model on a down-stream task to be able to use it for predictions and inference.\n"
     ]
    }
   ],
   "source": [
    "from transformers import CamembertTokenizer, CamembertForSequenceClassification\n",
    "\n",
    "model_name = 'camembert-base'\n",
    "tokenizer = CamembertTokenizer.from_pretrained(model_name)\n",
    "model = CamembertForSequenceClassification.from_pretrained(model_name, num_labels=9)\n",
    "\n",
    "max_len = 128\n",
    "encodings = tokenizer(data['Titre'].astype(str).tolist(), padding=True, truncation=True, max_length=max_len, return_tensors='pt')\n"
   ]
  },
  {
   "cell_type": "markdown",
   "metadata": {},
   "source": [
    "### 2-b Preprocessing des données"
   ]
  },
  {
   "cell_type": "code",
   "execution_count": 6,
   "metadata": {},
   "outputs": [],
   "source": [
    "def preprocess_texts(texts, blacklist_words, remove_random=False, random_fraction=0.1):\n",
    "   \n",
    "    cleaned_texts = []\n",
    "    \n",
    "    for text in texts:\n",
    "        words = text.split()\n",
    "        words = [word for word in words if word.lower() not in blacklist_words]\n",
    "        \n",
    "        if remove_random:\n",
    "            num_to_remove = int(len(words) * random_fraction)\n",
    "            words = [word for i, word in enumerate(words) if i not in random.sample(range(len(words)), num_to_remove)]\n",
    "        \n",
    "        cleaned_texts.append(' '.join(words))\n",
    "    \n",
    "    return cleaned_texts\n",
    "\n",
    "\n",
    "# Exemple d'utilisation\n",
    "blacklist_words = [\"le\", \"la\", \"les\", \"un\", \"une\", \"et\", \"ou\",\"l'\",\"il\"] \n",
    "\n",
    "# Nettoyer les titres\n",
    "data['Titre_preprocess'] = preprocess_texts(\n",
    "    data['Titre'].astype(str).tolist(), \n",
    "    blacklist_words=blacklist_words, \n",
    "    remove_random=True,  \n",
    "    random_fraction=0.1\n",
    ")\n"
   ]
  },
  {
   "cell_type": "markdown",
   "metadata": {},
   "source": [
    "### 3 - Découpage des données"
   ]
  },
  {
   "cell_type": "code",
   "execution_count": 9,
   "metadata": {},
   "outputs": [],
   "source": [
    "from sklearn.model_selection import train_test_split\n",
    "\n",
    "\n",
    "train_texts, test_texts, train_labels, test_labels = train_test_split(data['Titre_preprocess'].astype(str).tolist(), labels_numeric,\n",
    "                                                                      test_size=0.1, random_state=42)\n",
    "train_texts, validation_texts, train_labels, validation_labels = train_test_split(train_texts, train_labels,\n",
    "                                                                                  test_size=0.2, random_state=42)\n",
    "\n",
    "\n",
    "train_encodings = tokenizer(train_texts, padding=True, truncation=True, max_length=max_len, return_tensors='pt')\n",
    "\n",
    "test_encodings = tokenizer(test_texts, padding=True, truncation=True, max_length=max_len, return_tensors='pt')\n",
    "\n",
    "\n",
    "validation_encodings = tokenizer(validation_texts, padding=True, truncation=True, max_length=max_len, return_tensors='pt')\n"
   ]
  },
  {
   "cell_type": "code",
   "execution_count": 10,
   "metadata": {},
   "outputs": [],
   "source": [
    "import torch\n",
    "\n",
    "train_input_ids = train_encodings['input_ids']\n",
    "train_attention_masks = train_encodings['attention_mask']\n",
    "train_labels_tensor = torch.tensor(train_labels)\n",
    "\n",
    "test_input_ids = test_encodings['input_ids']\n",
    "test_attention_masks = test_encodings['attention_mask']\n",
    "test_labels_tensor = torch.tensor(test_labels)"
   ]
  },
  {
   "cell_type": "code",
   "execution_count": 11,
   "metadata": {},
   "outputs": [],
   "source": [
    "validation_input_ids = validation_encodings['input_ids']\n",
    "validation_attention_masks = validation_encodings['attention_mask']\n",
    "validation_labels_tensor = torch.tensor(validation_labels)\n"
   ]
  },
  {
   "cell_type": "markdown",
   "metadata": {},
   "source": [
    "### 4 - Entrainement du modèle"
   ]
  },
  {
   "cell_type": "code",
   "execution_count": 12,
   "metadata": {},
   "outputs": [],
   "source": [
    "from torch.utils.data import DataLoader, TensorDataset\n",
    "\n",
    "# Convertir les labels en tensor\n",
    "train_labels_tensor = torch.tensor(train_labels)\n",
    "validation_labels_tensor = torch.tensor(validation_labels)\n",
    "test_labels_tensor = torch.tensor(test_labels)\n",
    "\n",
    "\n",
    "# Créer des TensorDatasets pour l'entraînement et la validation\n",
    "train_dataset = TensorDataset(\n",
    "    train_encodings['input_ids'], \n",
    "    train_encodings['attention_mask'], \n",
    "    train_labels_tensor\n",
    ")\n",
    "\n",
    "validation_dataset = TensorDataset(\n",
    "    validation_encodings['input_ids'], \n",
    "    validation_encodings['attention_mask'], \n",
    "    validation_labels_tensor\n",
    ")\n",
    "\n",
    "test_dataset = TensorDataset(\n",
    "    test_encodings['input_ids'], \n",
    "    test_encodings['attention_mask'], \n",
    "    test_labels_tensor\n",
    ")\n",
    "\n",
    "# Dataloader\n",
    "train_dataloader = DataLoader(train_dataset, batch_size=128, shuffle=True)\n",
    "validation_dataloader = DataLoader(validation_dataset, batch_size=128, shuffle=False)\n",
    "test_dataloader = DataLoader(test_dataset, batch_size=128, shuffle=True)\n"
   ]
  },
  {
   "cell_type": "code",
   "execution_count": 14,
   "metadata": {},
   "outputs": [
    {
     "name": "stdout",
     "output_type": "stream",
     "text": [
      "cuda\n",
      "Nom : classifier.dense.weight, requires_grad : True\n",
      "Nom : classifier.dense.bias, requires_grad : True\n",
      "Nom : classifier.out_proj.weight, requires_grad : True\n",
      "Nom : classifier.out_proj.bias, requires_grad : True\n"
     ]
    }
   ],
   "source": [
    "import torch\n",
    "from transformers import AdamW\n",
    "from tqdm import tqdm\n",
    "import matplotlib.pyplot as plt\n",
    "\n",
    "# Vérification de l'availability du GPU\n",
    "device = torch.device(\"cuda\" if torch.cuda.is_available() else \"cpu\")\n",
    "print(device)\n",
    "# Déplacer le modèle sur le GPU si disponible\n",
    "model.to(device)\n",
    "\n",
    "#Congeler les premières couches du modèle\n",
    "for param in model.base_model.parameters():\n",
    "    param.requires_grad = False\n",
    "\n",
    "for param in model.classifier.parameters():\n",
    "    param.requires_grad = True\n",
    "\n",
    "\n",
    "# Vérifier les paramètres avant d'exécuter le code\n",
    "for name, param in model.named_parameters():\n",
    "    if 'classifier' in name:  # Vérifier spécifiquement les paramètres de la couche classifier\n",
    "        print(f\"Nom : {name}, requires_grad : {param.requires_grad}\")"
   ]
  },
  {
   "cell_type": "code",
   "execution_count": 15,
   "metadata": {},
   "outputs": [
    {
     "name": "stderr",
     "output_type": "stream",
     "text": [
      "/home/gris/miniforge3/lib/python3.10/site-packages/transformers/optimization.py:591: FutureWarning: This implementation of AdamW is deprecated and will be removed in a future version. Use the PyTorch implementation torch.optim.AdamW instead, or set `no_deprecation_warning=True` to disable this warning\n",
      "  warnings.warn(\n",
      "Epoch 1/80 - Training: 100%|██████████| 21/21 [00:31<00:00,  1.52s/batch]\n",
      "Epoch 1/80 - Validation: 100%|██████████| 6/6 [00:02<00:00,  2.80batch/s]\n"
     ]
    },
    {
     "name": "stdout",
     "output_type": "stream",
     "text": [
      "Epoch [1/80], Train Loss: 2.1810, Validation Loss: 2.1572\n"
     ]
    },
    {
     "name": "stderr",
     "output_type": "stream",
     "text": [
      "Epoch 2/80 - Training: 100%|██████████| 21/21 [00:09<00:00,  2.21batch/s]\n",
      "Epoch 2/80 - Validation: 100%|██████████| 6/6 [00:02<00:00,  2.79batch/s]\n"
     ]
    },
    {
     "name": "stdout",
     "output_type": "stream",
     "text": [
      "Epoch [2/80], Train Loss: 2.1402, Validation Loss: 2.1153\n"
     ]
    },
    {
     "name": "stderr",
     "output_type": "stream",
     "text": [
      "Epoch 3/80 - Training: 100%|██████████| 21/21 [00:09<00:00,  2.24batch/s]\n",
      "Epoch 3/80 - Validation: 100%|██████████| 6/6 [00:02<00:00,  2.75batch/s]\n"
     ]
    },
    {
     "name": "stdout",
     "output_type": "stream",
     "text": [
      "Epoch [3/80], Train Loss: 2.0991, Validation Loss: 2.0735\n"
     ]
    },
    {
     "name": "stderr",
     "output_type": "stream",
     "text": [
      "Epoch 4/80 - Training: 100%|██████████| 21/21 [00:09<00:00,  2.19batch/s]\n",
      "Epoch 4/80 - Validation: 100%|██████████| 6/6 [00:02<00:00,  2.73batch/s]\n"
     ]
    },
    {
     "name": "stdout",
     "output_type": "stream",
     "text": [
      "Epoch [4/80], Train Loss: 2.0520, Validation Loss: 2.0276\n"
     ]
    },
    {
     "name": "stderr",
     "output_type": "stream",
     "text": [
      "Epoch 5/80 - Training: 100%|██████████| 21/21 [00:09<00:00,  2.22batch/s]\n",
      "Epoch 5/80 - Validation: 100%|██████████| 6/6 [00:02<00:00,  2.81batch/s]\n"
     ]
    },
    {
     "name": "stdout",
     "output_type": "stream",
     "text": [
      "Epoch [5/80], Train Loss: 2.0063, Validation Loss: 1.9779\n"
     ]
    },
    {
     "name": "stderr",
     "output_type": "stream",
     "text": [
      "Epoch 6/80 - Training: 100%|██████████| 21/21 [00:09<00:00,  2.23batch/s]\n",
      "Epoch 6/80 - Validation: 100%|██████████| 6/6 [00:02<00:00,  2.65batch/s]\n"
     ]
    },
    {
     "name": "stdout",
     "output_type": "stream",
     "text": [
      "Epoch [6/80], Train Loss: 1.9541, Validation Loss: 1.9242\n"
     ]
    },
    {
     "name": "stderr",
     "output_type": "stream",
     "text": [
      "Epoch 7/80 - Training: 100%|██████████| 21/21 [00:09<00:00,  2.20batch/s]\n",
      "Epoch 7/80 - Validation: 100%|██████████| 6/6 [00:02<00:00,  2.63batch/s]\n"
     ]
    },
    {
     "name": "stdout",
     "output_type": "stream",
     "text": [
      "Epoch [7/80], Train Loss: 1.8970, Validation Loss: 1.8700\n"
     ]
    },
    {
     "name": "stderr",
     "output_type": "stream",
     "text": [
      "Epoch 8/80 - Training: 100%|██████████| 21/21 [00:09<00:00,  2.19batch/s]\n",
      "Epoch 8/80 - Validation: 100%|██████████| 6/6 [00:02<00:00,  2.81batch/s]\n"
     ]
    },
    {
     "name": "stdout",
     "output_type": "stream",
     "text": [
      "Epoch [8/80], Train Loss: 1.8496, Validation Loss: 1.8087\n"
     ]
    },
    {
     "name": "stderr",
     "output_type": "stream",
     "text": [
      "Epoch 9/80 - Training: 100%|██████████| 21/21 [00:09<00:00,  2.22batch/s]\n",
      "Epoch 9/80 - Validation: 100%|██████████| 6/6 [00:02<00:00,  2.80batch/s]\n"
     ]
    },
    {
     "name": "stdout",
     "output_type": "stream",
     "text": [
      "Epoch [9/80], Train Loss: 1.7878, Validation Loss: 1.7493\n"
     ]
    },
    {
     "name": "stderr",
     "output_type": "stream",
     "text": [
      "Epoch 10/80 - Training: 100%|██████████| 21/21 [00:09<00:00,  2.21batch/s]\n",
      "Epoch 10/80 - Validation: 100%|██████████| 6/6 [00:02<00:00,  2.76batch/s]\n"
     ]
    },
    {
     "name": "stdout",
     "output_type": "stream",
     "text": [
      "Epoch [10/80], Train Loss: 1.7325, Validation Loss: 1.6876\n"
     ]
    },
    {
     "name": "stderr",
     "output_type": "stream",
     "text": [
      "Epoch 11/80 - Training: 100%|██████████| 21/21 [00:09<00:00,  2.22batch/s]\n",
      "Epoch 11/80 - Validation: 100%|██████████| 6/6 [00:02<00:00,  2.74batch/s]\n"
     ]
    },
    {
     "name": "stdout",
     "output_type": "stream",
     "text": [
      "Epoch [11/80], Train Loss: 1.6789, Validation Loss: 1.6273\n"
     ]
    },
    {
     "name": "stderr",
     "output_type": "stream",
     "text": [
      "Epoch 12/80 - Training: 100%|██████████| 21/21 [00:09<00:00,  2.19batch/s]\n",
      "Epoch 12/80 - Validation: 100%|██████████| 6/6 [00:02<00:00,  2.73batch/s]\n"
     ]
    },
    {
     "name": "stdout",
     "output_type": "stream",
     "text": [
      "Epoch [12/80], Train Loss: 1.6146, Validation Loss: 1.5690\n"
     ]
    },
    {
     "name": "stderr",
     "output_type": "stream",
     "text": [
      "Epoch 13/80 - Training: 100%|██████████| 21/21 [00:09<00:00,  2.18batch/s]\n",
      "Epoch 13/80 - Validation: 100%|██████████| 6/6 [00:02<00:00,  2.71batch/s]\n"
     ]
    },
    {
     "name": "stdout",
     "output_type": "stream",
     "text": [
      "Epoch [13/80], Train Loss: 1.5533, Validation Loss: 1.5075\n"
     ]
    },
    {
     "name": "stderr",
     "output_type": "stream",
     "text": [
      "Epoch 14/80 - Training: 100%|██████████| 21/21 [00:09<00:00,  2.17batch/s]\n",
      "Epoch 14/80 - Validation: 100%|██████████| 6/6 [00:02<00:00,  2.72batch/s]\n"
     ]
    },
    {
     "name": "stdout",
     "output_type": "stream",
     "text": [
      "Epoch [14/80], Train Loss: 1.5148, Validation Loss: 1.4534\n"
     ]
    },
    {
     "name": "stderr",
     "output_type": "stream",
     "text": [
      "Epoch 15/80 - Training: 100%|██████████| 21/21 [00:09<00:00,  2.22batch/s]\n",
      "Epoch 15/80 - Validation: 100%|██████████| 6/6 [00:02<00:00,  2.67batch/s]\n"
     ]
    },
    {
     "name": "stdout",
     "output_type": "stream",
     "text": [
      "Epoch [15/80], Train Loss: 1.4687, Validation Loss: 1.4011\n"
     ]
    },
    {
     "name": "stderr",
     "output_type": "stream",
     "text": [
      "Epoch 16/80 - Training: 100%|██████████| 21/21 [00:09<00:00,  2.20batch/s]\n",
      "Epoch 16/80 - Validation: 100%|██████████| 6/6 [00:02<00:00,  2.70batch/s]\n"
     ]
    },
    {
     "name": "stdout",
     "output_type": "stream",
     "text": [
      "Epoch [16/80], Train Loss: 1.4122, Validation Loss: 1.3548\n"
     ]
    },
    {
     "name": "stderr",
     "output_type": "stream",
     "text": [
      "Epoch 17/80 - Training: 100%|██████████| 21/21 [00:09<00:00,  2.19batch/s]\n",
      "Epoch 17/80 - Validation: 100%|██████████| 6/6 [00:02<00:00,  2.73batch/s]\n"
     ]
    },
    {
     "name": "stdout",
     "output_type": "stream",
     "text": [
      "Epoch [17/80], Train Loss: 1.3747, Validation Loss: 1.3056\n"
     ]
    },
    {
     "name": "stderr",
     "output_type": "stream",
     "text": [
      "Epoch 18/80 - Training: 100%|██████████| 21/21 [00:09<00:00,  2.19batch/s]\n",
      "Epoch 18/80 - Validation: 100%|██████████| 6/6 [00:02<00:00,  2.84batch/s]\n"
     ]
    },
    {
     "name": "stdout",
     "output_type": "stream",
     "text": [
      "Epoch [18/80], Train Loss: 1.3416, Validation Loss: 1.2682\n"
     ]
    },
    {
     "name": "stderr",
     "output_type": "stream",
     "text": [
      "Epoch 19/80 - Training: 100%|██████████| 21/21 [00:09<00:00,  2.20batch/s]\n",
      "Epoch 19/80 - Validation: 100%|██████████| 6/6 [00:02<00:00,  2.77batch/s]\n"
     ]
    },
    {
     "name": "stdout",
     "output_type": "stream",
     "text": [
      "Epoch [19/80], Train Loss: 1.2880, Validation Loss: 1.2244\n"
     ]
    },
    {
     "name": "stderr",
     "output_type": "stream",
     "text": [
      "Epoch 20/80 - Training: 100%|██████████| 21/21 [00:09<00:00,  2.19batch/s]\n",
      "Epoch 20/80 - Validation: 100%|██████████| 6/6 [00:02<00:00,  2.66batch/s]\n"
     ]
    },
    {
     "name": "stdout",
     "output_type": "stream",
     "text": [
      "Epoch [20/80], Train Loss: 1.2692, Validation Loss: 1.1914\n"
     ]
    },
    {
     "name": "stderr",
     "output_type": "stream",
     "text": [
      "Epoch 21/80 - Training: 100%|██████████| 21/21 [00:09<00:00,  2.19batch/s]\n",
      "Epoch 21/80 - Validation: 100%|██████████| 6/6 [00:02<00:00,  2.72batch/s]\n"
     ]
    },
    {
     "name": "stdout",
     "output_type": "stream",
     "text": [
      "Epoch [21/80], Train Loss: 1.2310, Validation Loss: 1.1586\n"
     ]
    },
    {
     "name": "stderr",
     "output_type": "stream",
     "text": [
      "Epoch 22/80 - Training: 100%|██████████| 21/21 [00:09<00:00,  2.20batch/s]\n",
      "Epoch 22/80 - Validation: 100%|██████████| 6/6 [00:02<00:00,  2.74batch/s]\n"
     ]
    },
    {
     "name": "stdout",
     "output_type": "stream",
     "text": [
      "Epoch [22/80], Train Loss: 1.2055, Validation Loss: 1.1260\n"
     ]
    },
    {
     "name": "stderr",
     "output_type": "stream",
     "text": [
      "Epoch 23/80 - Training: 100%|██████████| 21/21 [00:09<00:00,  2.20batch/s]\n",
      "Epoch 23/80 - Validation: 100%|██████████| 6/6 [00:02<00:00,  2.66batch/s]\n"
     ]
    },
    {
     "name": "stdout",
     "output_type": "stream",
     "text": [
      "Epoch [23/80], Train Loss: 1.1713, Validation Loss: 1.0958\n"
     ]
    },
    {
     "name": "stderr",
     "output_type": "stream",
     "text": [
      "Epoch 24/80 - Training: 100%|██████████| 21/21 [00:09<00:00,  2.19batch/s]\n",
      "Epoch 24/80 - Validation: 100%|██████████| 6/6 [00:02<00:00,  2.69batch/s]\n"
     ]
    },
    {
     "name": "stdout",
     "output_type": "stream",
     "text": [
      "Epoch [24/80], Train Loss: 1.1618, Validation Loss: 1.0746\n"
     ]
    },
    {
     "name": "stderr",
     "output_type": "stream",
     "text": [
      "Epoch 25/80 - Training: 100%|██████████| 21/21 [00:09<00:00,  2.22batch/s]\n",
      "Epoch 25/80 - Validation: 100%|██████████| 6/6 [00:02<00:00,  2.74batch/s]\n"
     ]
    },
    {
     "name": "stdout",
     "output_type": "stream",
     "text": [
      "Epoch [25/80], Train Loss: 1.1302, Validation Loss: 1.0473\n"
     ]
    },
    {
     "name": "stderr",
     "output_type": "stream",
     "text": [
      "Epoch 26/80 - Training: 100%|██████████| 21/21 [00:09<00:00,  2.20batch/s]\n",
      "Epoch 26/80 - Validation: 100%|██████████| 6/6 [00:02<00:00,  2.68batch/s]\n"
     ]
    },
    {
     "name": "stdout",
     "output_type": "stream",
     "text": [
      "Epoch [26/80], Train Loss: 1.1176, Validation Loss: 1.0292\n"
     ]
    },
    {
     "name": "stderr",
     "output_type": "stream",
     "text": [
      "Epoch 27/80 - Training: 100%|██████████| 21/21 [00:09<00:00,  2.20batch/s]\n",
      "Epoch 27/80 - Validation: 100%|██████████| 6/6 [00:02<00:00,  2.64batch/s]\n"
     ]
    },
    {
     "name": "stdout",
     "output_type": "stream",
     "text": [
      "Epoch [27/80], Train Loss: 1.1075, Validation Loss: 1.0046\n"
     ]
    },
    {
     "name": "stderr",
     "output_type": "stream",
     "text": [
      "Epoch 28/80 - Training: 100%|██████████| 21/21 [00:09<00:00,  2.20batch/s]\n",
      "Epoch 28/80 - Validation: 100%|██████████| 6/6 [00:02<00:00,  2.66batch/s]\n"
     ]
    },
    {
     "name": "stdout",
     "output_type": "stream",
     "text": [
      "Epoch [28/80], Train Loss: 1.0897, Validation Loss: 0.9893\n"
     ]
    },
    {
     "name": "stderr",
     "output_type": "stream",
     "text": [
      "Epoch 29/80 - Training: 100%|██████████| 21/21 [00:09<00:00,  2.20batch/s]\n",
      "Epoch 29/80 - Validation: 100%|██████████| 6/6 [00:02<00:00,  2.63batch/s]\n"
     ]
    },
    {
     "name": "stdout",
     "output_type": "stream",
     "text": [
      "Epoch [29/80], Train Loss: 1.0642, Validation Loss: 0.9708\n"
     ]
    },
    {
     "name": "stderr",
     "output_type": "stream",
     "text": [
      "Epoch 30/80 - Training: 100%|██████████| 21/21 [00:09<00:00,  2.21batch/s]\n",
      "Epoch 30/80 - Validation: 100%|██████████| 6/6 [00:02<00:00,  2.67batch/s]\n"
     ]
    },
    {
     "name": "stdout",
     "output_type": "stream",
     "text": [
      "Epoch [30/80], Train Loss: 1.0456, Validation Loss: 0.9616\n"
     ]
    },
    {
     "name": "stderr",
     "output_type": "stream",
     "text": [
      "Epoch 31/80 - Training: 100%|██████████| 21/21 [00:09<00:00,  2.18batch/s]\n",
      "Epoch 31/80 - Validation: 100%|██████████| 6/6 [00:02<00:00,  2.71batch/s]\n"
     ]
    },
    {
     "name": "stdout",
     "output_type": "stream",
     "text": [
      "Epoch [31/80], Train Loss: 1.0307, Validation Loss: 0.9369\n"
     ]
    },
    {
     "name": "stderr",
     "output_type": "stream",
     "text": [
      "Epoch 32/80 - Training: 100%|██████████| 21/21 [00:09<00:00,  2.22batch/s]\n",
      "Epoch 32/80 - Validation: 100%|██████████| 6/6 [00:02<00:00,  2.73batch/s]\n"
     ]
    },
    {
     "name": "stdout",
     "output_type": "stream",
     "text": [
      "Epoch [32/80], Train Loss: 1.0343, Validation Loss: 0.9246\n"
     ]
    },
    {
     "name": "stderr",
     "output_type": "stream",
     "text": [
      "Epoch 33/80 - Training: 100%|██████████| 21/21 [00:09<00:00,  2.19batch/s]\n",
      "Epoch 33/80 - Validation: 100%|██████████| 6/6 [00:02<00:00,  2.74batch/s]\n"
     ]
    },
    {
     "name": "stdout",
     "output_type": "stream",
     "text": [
      "Epoch [33/80], Train Loss: 1.0078, Validation Loss: 0.9172\n"
     ]
    },
    {
     "name": "stderr",
     "output_type": "stream",
     "text": [
      "Epoch 34/80 - Training: 100%|██████████| 21/21 [00:09<00:00,  2.20batch/s]\n",
      "Epoch 34/80 - Validation: 100%|██████████| 6/6 [00:02<00:00,  2.72batch/s]\n"
     ]
    },
    {
     "name": "stdout",
     "output_type": "stream",
     "text": [
      "Epoch [34/80], Train Loss: 1.0126, Validation Loss: 0.9029\n"
     ]
    },
    {
     "name": "stderr",
     "output_type": "stream",
     "text": [
      "Epoch 35/80 - Training: 100%|██████████| 21/21 [00:09<00:00,  2.20batch/s]\n",
      "Epoch 35/80 - Validation: 100%|██████████| 6/6 [00:02<00:00,  2.72batch/s]\n"
     ]
    },
    {
     "name": "stdout",
     "output_type": "stream",
     "text": [
      "Epoch [35/80], Train Loss: 0.9938, Validation Loss: 0.8900\n"
     ]
    },
    {
     "name": "stderr",
     "output_type": "stream",
     "text": [
      "Epoch 36/80 - Training: 100%|██████████| 21/21 [00:09<00:00,  2.20batch/s]\n",
      "Epoch 36/80 - Validation: 100%|██████████| 6/6 [00:02<00:00,  2.70batch/s]\n"
     ]
    },
    {
     "name": "stdout",
     "output_type": "stream",
     "text": [
      "Epoch [36/80], Train Loss: 0.9952, Validation Loss: 0.8770\n"
     ]
    },
    {
     "name": "stderr",
     "output_type": "stream",
     "text": [
      "Epoch 37/80 - Training: 100%|██████████| 21/21 [00:09<00:00,  2.20batch/s]\n",
      "Epoch 37/80 - Validation: 100%|██████████| 6/6 [00:02<00:00,  2.84batch/s]\n"
     ]
    },
    {
     "name": "stdout",
     "output_type": "stream",
     "text": [
      "Epoch [37/80], Train Loss: 0.9689, Validation Loss: 0.8662\n"
     ]
    },
    {
     "name": "stderr",
     "output_type": "stream",
     "text": [
      "Epoch 38/80 - Training: 100%|██████████| 21/21 [00:09<00:00,  2.20batch/s]\n",
      "Epoch 38/80 - Validation: 100%|██████████| 6/6 [00:02<00:00,  2.57batch/s]\n"
     ]
    },
    {
     "name": "stdout",
     "output_type": "stream",
     "text": [
      "Epoch [38/80], Train Loss: 0.9697, Validation Loss: 0.8607\n"
     ]
    },
    {
     "name": "stderr",
     "output_type": "stream",
     "text": [
      "Epoch 39/80 - Training: 100%|██████████| 21/21 [00:09<00:00,  2.22batch/s]\n",
      "Epoch 39/80 - Validation: 100%|██████████| 6/6 [00:02<00:00,  2.81batch/s]\n"
     ]
    },
    {
     "name": "stdout",
     "output_type": "stream",
     "text": [
      "Epoch [39/80], Train Loss: 0.9308, Validation Loss: 0.8456\n"
     ]
    },
    {
     "name": "stderr",
     "output_type": "stream",
     "text": [
      "Epoch 40/80 - Training: 100%|██████████| 21/21 [00:09<00:00,  2.22batch/s]\n",
      "Epoch 40/80 - Validation: 100%|██████████| 6/6 [00:02<00:00,  2.65batch/s]\n"
     ]
    },
    {
     "name": "stdout",
     "output_type": "stream",
     "text": [
      "Epoch [40/80], Train Loss: 0.9624, Validation Loss: 0.8356\n"
     ]
    },
    {
     "name": "stderr",
     "output_type": "stream",
     "text": [
      "Epoch 41/80 - Training: 100%|██████████| 21/21 [00:09<00:00,  2.21batch/s]\n",
      "Epoch 41/80 - Validation: 100%|██████████| 6/6 [00:02<00:00,  2.81batch/s]\n"
     ]
    },
    {
     "name": "stdout",
     "output_type": "stream",
     "text": [
      "Epoch [41/80], Train Loss: 0.9325, Validation Loss: 0.8291\n"
     ]
    },
    {
     "name": "stderr",
     "output_type": "stream",
     "text": [
      "Epoch 42/80 - Training: 100%|██████████| 21/21 [00:09<00:00,  2.17batch/s]\n",
      "Epoch 42/80 - Validation: 100%|██████████| 6/6 [00:02<00:00,  2.81batch/s]\n"
     ]
    },
    {
     "name": "stdout",
     "output_type": "stream",
     "text": [
      "Epoch [42/80], Train Loss: 0.9314, Validation Loss: 0.8192\n"
     ]
    },
    {
     "name": "stderr",
     "output_type": "stream",
     "text": [
      "Epoch 43/80 - Training: 100%|██████████| 21/21 [00:09<00:00,  2.19batch/s]\n",
      "Epoch 43/80 - Validation: 100%|██████████| 6/6 [00:02<00:00,  2.59batch/s]\n"
     ]
    },
    {
     "name": "stdout",
     "output_type": "stream",
     "text": [
      "Epoch [43/80], Train Loss: 0.9220, Validation Loss: 0.8131\n"
     ]
    },
    {
     "name": "stderr",
     "output_type": "stream",
     "text": [
      "Epoch 44/80 - Training: 100%|██████████| 21/21 [00:09<00:00,  2.20batch/s]\n",
      "Epoch 44/80 - Validation: 100%|██████████| 6/6 [00:02<00:00,  2.80batch/s]\n"
     ]
    },
    {
     "name": "stdout",
     "output_type": "stream",
     "text": [
      "Epoch [44/80], Train Loss: 0.9153, Validation Loss: 0.8004\n"
     ]
    },
    {
     "name": "stderr",
     "output_type": "stream",
     "text": [
      "Epoch 45/80 - Training: 100%|██████████| 21/21 [00:09<00:00,  2.19batch/s]\n",
      "Epoch 45/80 - Validation: 100%|██████████| 6/6 [00:02<00:00,  2.74batch/s]\n"
     ]
    },
    {
     "name": "stdout",
     "output_type": "stream",
     "text": [
      "Epoch [45/80], Train Loss: 0.9106, Validation Loss: 0.7981\n"
     ]
    },
    {
     "name": "stderr",
     "output_type": "stream",
     "text": [
      "Epoch 46/80 - Training: 100%|██████████| 21/21 [00:09<00:00,  2.22batch/s]\n",
      "Epoch 46/80 - Validation: 100%|██████████| 6/6 [00:02<00:00,  2.61batch/s]\n"
     ]
    },
    {
     "name": "stdout",
     "output_type": "stream",
     "text": [
      "Epoch [46/80], Train Loss: 0.8979, Validation Loss: 0.7874\n"
     ]
    },
    {
     "name": "stderr",
     "output_type": "stream",
     "text": [
      "Epoch 47/80 - Training: 100%|██████████| 21/21 [00:09<00:00,  2.19batch/s]\n",
      "Epoch 47/80 - Validation: 100%|██████████| 6/6 [00:02<00:00,  2.69batch/s]\n"
     ]
    },
    {
     "name": "stdout",
     "output_type": "stream",
     "text": [
      "Epoch [47/80], Train Loss: 0.9011, Validation Loss: 0.7849\n"
     ]
    },
    {
     "name": "stderr",
     "output_type": "stream",
     "text": [
      "Epoch 48/80 - Training: 100%|██████████| 21/21 [00:09<00:00,  2.20batch/s]\n",
      "Epoch 48/80 - Validation: 100%|██████████| 6/6 [00:02<00:00,  2.71batch/s]\n"
     ]
    },
    {
     "name": "stdout",
     "output_type": "stream",
     "text": [
      "Epoch [48/80], Train Loss: 0.8724, Validation Loss: 0.7741\n"
     ]
    },
    {
     "name": "stderr",
     "output_type": "stream",
     "text": [
      "Epoch 49/80 - Training: 100%|██████████| 21/21 [00:09<00:00,  2.20batch/s]\n",
      "Epoch 49/80 - Validation: 100%|██████████| 6/6 [00:02<00:00,  2.58batch/s]\n"
     ]
    },
    {
     "name": "stdout",
     "output_type": "stream",
     "text": [
      "Epoch [49/80], Train Loss: 0.8937, Validation Loss: 0.7690\n"
     ]
    },
    {
     "name": "stderr",
     "output_type": "stream",
     "text": [
      "Epoch 50/80 - Training: 100%|██████████| 21/21 [00:09<00:00,  2.21batch/s]\n",
      "Epoch 50/80 - Validation: 100%|██████████| 6/6 [00:02<00:00,  2.78batch/s]\n"
     ]
    },
    {
     "name": "stdout",
     "output_type": "stream",
     "text": [
      "Epoch [50/80], Train Loss: 0.8702, Validation Loss: 0.7624\n"
     ]
    },
    {
     "name": "stderr",
     "output_type": "stream",
     "text": [
      "Epoch 51/80 - Training: 100%|██████████| 21/21 [00:09<00:00,  2.21batch/s]\n",
      "Epoch 51/80 - Validation: 100%|██████████| 6/6 [00:02<00:00,  2.69batch/s]\n"
     ]
    },
    {
     "name": "stdout",
     "output_type": "stream",
     "text": [
      "Epoch [51/80], Train Loss: 0.8783, Validation Loss: 0.7548\n"
     ]
    },
    {
     "name": "stderr",
     "output_type": "stream",
     "text": [
      "Epoch 52/80 - Training: 100%|██████████| 21/21 [00:09<00:00,  2.20batch/s]\n",
      "Epoch 52/80 - Validation: 100%|██████████| 6/6 [00:02<00:00,  2.82batch/s]\n"
     ]
    },
    {
     "name": "stdout",
     "output_type": "stream",
     "text": [
      "Epoch [52/80], Train Loss: 0.8866, Validation Loss: 0.7573\n"
     ]
    },
    {
     "name": "stderr",
     "output_type": "stream",
     "text": [
      "Epoch 53/80 - Training: 100%|██████████| 21/21 [00:09<00:00,  2.21batch/s]\n",
      "Epoch 53/80 - Validation: 100%|██████████| 6/6 [00:02<00:00,  2.67batch/s]\n"
     ]
    },
    {
     "name": "stdout",
     "output_type": "stream",
     "text": [
      "Epoch [53/80], Train Loss: 0.8829, Validation Loss: 0.7503\n"
     ]
    },
    {
     "name": "stderr",
     "output_type": "stream",
     "text": [
      "Epoch 54/80 - Training: 100%|██████████| 21/21 [00:09<00:00,  2.21batch/s]\n",
      "Epoch 54/80 - Validation: 100%|██████████| 6/6 [00:02<00:00,  2.63batch/s]\n"
     ]
    },
    {
     "name": "stdout",
     "output_type": "stream",
     "text": [
      "Epoch [54/80], Train Loss: 0.8837, Validation Loss: 0.7388\n"
     ]
    },
    {
     "name": "stderr",
     "output_type": "stream",
     "text": [
      "Epoch 55/80 - Training: 100%|██████████| 21/21 [00:09<00:00,  2.19batch/s]\n",
      "Epoch 55/80 - Validation: 100%|██████████| 6/6 [00:02<00:00,  2.64batch/s]\n"
     ]
    },
    {
     "name": "stdout",
     "output_type": "stream",
     "text": [
      "Epoch [55/80], Train Loss: 0.8779, Validation Loss: 0.7388\n"
     ]
    },
    {
     "name": "stderr",
     "output_type": "stream",
     "text": [
      "Epoch 56/80 - Training: 100%|██████████| 21/21 [00:09<00:00,  2.21batch/s]\n",
      "Epoch 56/80 - Validation: 100%|██████████| 6/6 [00:02<00:00,  2.79batch/s]\n"
     ]
    },
    {
     "name": "stdout",
     "output_type": "stream",
     "text": [
      "Epoch [56/80], Train Loss: 0.8530, Validation Loss: 0.7373\n"
     ]
    },
    {
     "name": "stderr",
     "output_type": "stream",
     "text": [
      "Epoch 57/80 - Training: 100%|██████████| 21/21 [00:09<00:00,  2.19batch/s]\n",
      "Epoch 57/80 - Validation: 100%|██████████| 6/6 [00:02<00:00,  2.68batch/s]\n"
     ]
    },
    {
     "name": "stdout",
     "output_type": "stream",
     "text": [
      "Epoch [57/80], Train Loss: 0.8455, Validation Loss: 0.7340\n"
     ]
    },
    {
     "name": "stderr",
     "output_type": "stream",
     "text": [
      "Epoch 58/80 - Training: 100%|██████████| 21/21 [00:09<00:00,  2.22batch/s]\n",
      "Epoch 58/80 - Validation: 100%|██████████| 6/6 [00:02<00:00,  2.68batch/s]\n"
     ]
    },
    {
     "name": "stdout",
     "output_type": "stream",
     "text": [
      "Epoch [58/80], Train Loss: 0.8396, Validation Loss: 0.7308\n"
     ]
    },
    {
     "name": "stderr",
     "output_type": "stream",
     "text": [
      "Epoch 59/80 - Training: 100%|██████████| 21/21 [00:09<00:00,  2.19batch/s]\n",
      "Epoch 59/80 - Validation: 100%|██████████| 6/6 [00:02<00:00,  2.76batch/s]\n"
     ]
    },
    {
     "name": "stdout",
     "output_type": "stream",
     "text": [
      "Epoch [59/80], Train Loss: 0.8413, Validation Loss: 0.7225\n"
     ]
    },
    {
     "name": "stderr",
     "output_type": "stream",
     "text": [
      "Epoch 60/80 - Training: 100%|██████████| 21/21 [00:09<00:00,  2.21batch/s]\n",
      "Epoch 60/80 - Validation: 100%|██████████| 6/6 [00:02<00:00,  2.75batch/s]\n"
     ]
    },
    {
     "name": "stdout",
     "output_type": "stream",
     "text": [
      "Epoch [60/80], Train Loss: 0.8207, Validation Loss: 0.7246\n"
     ]
    },
    {
     "name": "stderr",
     "output_type": "stream",
     "text": [
      "Epoch 61/80 - Training: 100%|██████████| 21/21 [00:09<00:00,  2.22batch/s]\n",
      "Epoch 61/80 - Validation: 100%|██████████| 6/6 [00:02<00:00,  2.73batch/s]\n"
     ]
    },
    {
     "name": "stdout",
     "output_type": "stream",
     "text": [
      "Epoch [61/80], Train Loss: 0.8374, Validation Loss: 0.7138\n"
     ]
    },
    {
     "name": "stderr",
     "output_type": "stream",
     "text": [
      "Epoch 62/80 - Training: 100%|██████████| 21/21 [00:09<00:00,  2.18batch/s]\n",
      "Epoch 62/80 - Validation: 100%|██████████| 6/6 [00:02<00:00,  2.66batch/s]\n"
     ]
    },
    {
     "name": "stdout",
     "output_type": "stream",
     "text": [
      "Epoch [62/80], Train Loss: 0.8496, Validation Loss: 0.7181\n"
     ]
    },
    {
     "name": "stderr",
     "output_type": "stream",
     "text": [
      "Epoch 63/80 - Training: 100%|██████████| 21/21 [00:09<00:00,  2.22batch/s]\n",
      "Epoch 63/80 - Validation: 100%|██████████| 6/6 [00:02<00:00,  2.74batch/s]\n"
     ]
    },
    {
     "name": "stdout",
     "output_type": "stream",
     "text": [
      "Epoch [63/80], Train Loss: 0.8349, Validation Loss: 0.7100\n"
     ]
    },
    {
     "name": "stderr",
     "output_type": "stream",
     "text": [
      "Epoch 64/80 - Training: 100%|██████████| 21/21 [00:09<00:00,  2.20batch/s]\n",
      "Epoch 64/80 - Validation: 100%|██████████| 6/6 [00:02<00:00,  2.68batch/s]\n"
     ]
    },
    {
     "name": "stdout",
     "output_type": "stream",
     "text": [
      "Epoch [64/80], Train Loss: 0.8046, Validation Loss: 0.7039\n"
     ]
    },
    {
     "name": "stderr",
     "output_type": "stream",
     "text": [
      "Epoch 65/80 - Training: 100%|██████████| 21/21 [00:09<00:00,  2.18batch/s]\n",
      "Epoch 65/80 - Validation: 100%|██████████| 6/6 [00:02<00:00,  2.70batch/s]\n"
     ]
    },
    {
     "name": "stdout",
     "output_type": "stream",
     "text": [
      "Epoch [65/80], Train Loss: 0.8208, Validation Loss: 0.7023\n"
     ]
    },
    {
     "name": "stderr",
     "output_type": "stream",
     "text": [
      "Epoch 66/80 - Training: 100%|██████████| 21/21 [00:09<00:00,  2.20batch/s]\n",
      "Epoch 66/80 - Validation: 100%|██████████| 6/6 [00:02<00:00,  2.61batch/s]\n"
     ]
    },
    {
     "name": "stdout",
     "output_type": "stream",
     "text": [
      "Epoch [66/80], Train Loss: 0.8105, Validation Loss: 0.6999\n"
     ]
    },
    {
     "name": "stderr",
     "output_type": "stream",
     "text": [
      "Epoch 67/80 - Training: 100%|██████████| 21/21 [00:09<00:00,  2.20batch/s]\n",
      "Epoch 67/80 - Validation: 100%|██████████| 6/6 [00:02<00:00,  2.67batch/s]\n"
     ]
    },
    {
     "name": "stdout",
     "output_type": "stream",
     "text": [
      "Epoch [67/80], Train Loss: 0.8220, Validation Loss: 0.6995\n"
     ]
    },
    {
     "name": "stderr",
     "output_type": "stream",
     "text": [
      "Epoch 68/80 - Training: 100%|██████████| 21/21 [00:09<00:00,  2.21batch/s]\n",
      "Epoch 68/80 - Validation: 100%|██████████| 6/6 [00:02<00:00,  2.79batch/s]\n"
     ]
    },
    {
     "name": "stdout",
     "output_type": "stream",
     "text": [
      "Epoch [68/80], Train Loss: 0.8244, Validation Loss: 0.6932\n"
     ]
    },
    {
     "name": "stderr",
     "output_type": "stream",
     "text": [
      "Epoch 69/80 - Training: 100%|██████████| 21/21 [00:09<00:00,  2.19batch/s]\n",
      "Epoch 69/80 - Validation: 100%|██████████| 6/6 [00:02<00:00,  2.58batch/s]\n"
     ]
    },
    {
     "name": "stdout",
     "output_type": "stream",
     "text": [
      "Epoch [69/80], Train Loss: 0.7808, Validation Loss: 0.6941\n"
     ]
    },
    {
     "name": "stderr",
     "output_type": "stream",
     "text": [
      "Epoch 70/80 - Training: 100%|██████████| 21/21 [00:09<00:00,  2.20batch/s]\n",
      "Epoch 70/80 - Validation: 100%|██████████| 6/6 [00:02<00:00,  2.70batch/s]\n"
     ]
    },
    {
     "name": "stdout",
     "output_type": "stream",
     "text": [
      "Epoch [70/80], Train Loss: 0.7994, Validation Loss: 0.6911\n"
     ]
    },
    {
     "name": "stderr",
     "output_type": "stream",
     "text": [
      "Epoch 71/80 - Training: 100%|██████████| 21/21 [00:09<00:00,  2.21batch/s]\n",
      "Epoch 71/80 - Validation: 100%|██████████| 6/6 [00:02<00:00,  2.75batch/s]\n"
     ]
    },
    {
     "name": "stdout",
     "output_type": "stream",
     "text": [
      "Epoch [71/80], Train Loss: 0.8113, Validation Loss: 0.6847\n"
     ]
    },
    {
     "name": "stderr",
     "output_type": "stream",
     "text": [
      "Epoch 72/80 - Training: 100%|██████████| 21/21 [00:09<00:00,  2.19batch/s]\n",
      "Epoch 72/80 - Validation: 100%|██████████| 6/6 [00:02<00:00,  2.69batch/s]\n"
     ]
    },
    {
     "name": "stdout",
     "output_type": "stream",
     "text": [
      "Epoch [72/80], Train Loss: 0.8032, Validation Loss: 0.6826\n"
     ]
    },
    {
     "name": "stderr",
     "output_type": "stream",
     "text": [
      "Epoch 73/80 - Training: 100%|██████████| 21/21 [00:09<00:00,  2.22batch/s]\n",
      "Epoch 73/80 - Validation: 100%|██████████| 6/6 [00:02<00:00,  2.79batch/s]\n"
     ]
    },
    {
     "name": "stdout",
     "output_type": "stream",
     "text": [
      "Epoch [73/80], Train Loss: 0.7711, Validation Loss: 0.6807\n"
     ]
    },
    {
     "name": "stderr",
     "output_type": "stream",
     "text": [
      "Epoch 74/80 - Training: 100%|██████████| 21/21 [00:09<00:00,  2.20batch/s]\n",
      "Epoch 74/80 - Validation: 100%|██████████| 6/6 [00:02<00:00,  2.14batch/s]\n"
     ]
    },
    {
     "name": "stdout",
     "output_type": "stream",
     "text": [
      "Epoch [74/80], Train Loss: 0.8167, Validation Loss: 0.6790\n"
     ]
    },
    {
     "name": "stderr",
     "output_type": "stream",
     "text": [
      "Epoch 75/80 - Training: 100%|██████████| 21/21 [00:14<00:00,  1.42batch/s]\n",
      "Epoch 75/80 - Validation: 100%|██████████| 6/6 [00:04<00:00,  1.47batch/s]\n"
     ]
    },
    {
     "name": "stdout",
     "output_type": "stream",
     "text": [
      "Epoch [75/80], Train Loss: 0.8007, Validation Loss: 0.6787\n"
     ]
    },
    {
     "name": "stderr",
     "output_type": "stream",
     "text": [
      "Epoch 76/80 - Training: 100%|██████████| 21/21 [00:14<00:00,  1.41batch/s]\n",
      "Epoch 76/80 - Validation: 100%|██████████| 6/6 [00:04<00:00,  1.48batch/s]\n"
     ]
    },
    {
     "name": "stdout",
     "output_type": "stream",
     "text": [
      "Epoch [76/80], Train Loss: 0.8004, Validation Loss: 0.6697\n"
     ]
    },
    {
     "name": "stderr",
     "output_type": "stream",
     "text": [
      "Epoch 77/80 - Training: 100%|██████████| 21/21 [00:14<00:00,  1.43batch/s]\n",
      "Epoch 77/80 - Validation: 100%|██████████| 6/6 [00:04<00:00,  1.46batch/s]\n"
     ]
    },
    {
     "name": "stdout",
     "output_type": "stream",
     "text": [
      "Epoch [77/80], Train Loss: 0.7807, Validation Loss: 0.6723\n"
     ]
    },
    {
     "name": "stderr",
     "output_type": "stream",
     "text": [
      "Epoch 78/80 - Training: 100%|██████████| 21/21 [00:15<00:00,  1.39batch/s]\n",
      "Epoch 78/80 - Validation: 100%|██████████| 6/6 [00:04<00:00,  1.47batch/s]\n"
     ]
    },
    {
     "name": "stdout",
     "output_type": "stream",
     "text": [
      "Epoch [78/80], Train Loss: 0.7698, Validation Loss: 0.6697\n"
     ]
    },
    {
     "name": "stderr",
     "output_type": "stream",
     "text": [
      "Epoch 79/80 - Training: 100%|██████████| 21/21 [00:14<00:00,  1.41batch/s]\n",
      "Epoch 79/80 - Validation: 100%|██████████| 6/6 [00:04<00:00,  1.48batch/s]\n"
     ]
    },
    {
     "name": "stdout",
     "output_type": "stream",
     "text": [
      "Epoch [79/80], Train Loss: 0.7972, Validation Loss: 0.6670\n"
     ]
    },
    {
     "name": "stderr",
     "output_type": "stream",
     "text": [
      "Epoch 80/80 - Training: 100%|██████████| 21/21 [00:14<00:00,  1.43batch/s]\n",
      "Epoch 80/80 - Validation: 100%|██████████| 6/6 [00:04<00:00,  1.47batch/s]"
     ]
    },
    {
     "name": "stdout",
     "output_type": "stream",
     "text": [
      "Epoch [80/80], Train Loss: 0.7776, Validation Loss: 0.6615\n"
     ]
    },
    {
     "name": "stderr",
     "output_type": "stream",
     "text": [
      "\n"
     ]
    },
    {
     "data": {
      "image/png": "[encoded data removed]",
      "text/plain": [
       "<Figure size 1000x600 with 1 Axes>"
      ]
     },
     "metadata": {},
     "output_type": "display_data"
    }
   ],
   "source": [
    "# Optimiseur\n",
    "optimizer = AdamW(model.parameters(), lr=1e-4, weight_decay=1)\n",
    "\n",
    "# Mode entraînement\n",
    "model.train()\n",
    "\n",
    "# Variables pour stocker les pertes\n",
    "train_losses = []\n",
    "val_losses = []\n",
    "\n",
    "# Nombre d'époques\n",
    "nb_epoch = 80\n",
    "\n",
    "# Boucle d'entraînement\n",
    "for epoch in range(nb_epoch):\n",
    "    # Phase d'entraînement\n",
    "    model.train()\n",
    "    total_train_loss = 0\n",
    "    \n",
    "    # Utilisation de tqdm pour la barre de progression\n",
    "    for batch in tqdm(train_dataloader, desc=f\"Epoch {epoch+1}/{nb_epoch} - Training\", unit=\"batch\"):\n",
    "        input_ids, attention_mask, labels = batch\n",
    "        \n",
    "        # Déplacer les données sur le GPU\n",
    "        input_ids = input_ids.to(device)\n",
    "        attention_mask = attention_mask.to(device)\n",
    "        labels = labels.to(device)\n",
    "        \n",
    "        # Propagation avant (forward pass)\n",
    "        outputs = model(input_ids=input_ids, \n",
    "                        attention_mask=attention_mask, \n",
    "                        labels=labels)\n",
    "        \n",
    "        # La perte est automatiquement calculée par le modèle avec CrossEntropyLoss\n",
    "        loss = outputs.loss\n",
    "        \n",
    "        # Rétropropagation (backpropagation)\n",
    "        loss.backward()\n",
    "        \n",
    "        # Optimisation des paramètres du modèle\n",
    "        optimizer.step()\n",
    "        optimizer.zero_grad()\n",
    "        \n",
    "        # Ajouter la perte de ce batch à la perte totale\n",
    "        total_train_loss += loss.item()\n",
    "\n",
    "    # Calcul de la perte moyenne pour l'entraînement\n",
    "    avg_train_loss = total_train_loss / len(train_dataloader)\n",
    "    train_losses.append(avg_train_loss)\n",
    "    \n",
    "    # Phase de validation\n",
    "    model.eval()\n",
    "    total_val_loss = 0\n",
    "    \n",
    "    with torch.no_grad():  # Désactive la rétropropagation pour économiser de la mémoire\n",
    "        # Utilisation de tqdm pour la barre de progression pendant la validation\n",
    "        for batch in tqdm(validation_dataloader, desc=f\"Epoch {epoch+1}/{nb_epoch} - Validation\", unit=\"batch\"):\n",
    "            input_ids, attention_mask, labels = batch\n",
    "            \n",
    "            # Déplacer les données sur le GPU\n",
    "            input_ids = input_ids.to(device)\n",
    "            attention_mask = attention_mask.to(device)\n",
    "            labels = labels.to(device)\n",
    "            \n",
    "            # Propagation avant (forward pass)\n",
    "            outputs = model(input_ids=input_ids, \n",
    "                            attention_mask=attention_mask, \n",
    "                            labels=labels)\n",
    "            \n",
    "            # La perte de validation\n",
    "            val_loss = outputs.loss\n",
    "            total_val_loss += val_loss.item()\n",
    "\n",
    "    # Calcul de la perte moyenne pour la validation\n",
    "    avg_val_loss = total_val_loss / len(validation_dataloader)\n",
    "    val_losses.append(avg_val_loss)\n",
    "    \n",
    "    # Affichage de la perte de validation\n",
    "    print(f\"Epoch [{epoch+1}/{nb_epoch}], Train Loss: {avg_train_loss:.4f}, Validation Loss: {avg_val_loss:.4f}\")\n",
    "\n",
    "# Affichage des courbes de perte d'entraînement et de validation\n",
    "plt.figure(figsize=(10, 6))\n",
    "plt.plot(range(1, nb_epoch + 1), train_losses, label='Train Loss', color='blue')\n",
    "plt.plot(range(1, nb_epoch + 1), val_losses, label='Validation Loss', color='red')\n",
    "plt.title('Loss Curve')\n",
    "plt.xlabel('Epoch')\n",
    "plt.ylabel('Loss')\n",
    "plt.legend()\n",
    "plt.grid(True)\n",
    "plt.show()\n"
   ]
  },
  {
   "cell_type": "code",
   "execution_count": 22,
   "metadata": {},
   "outputs": [
    {
     "name": "stdout",
     "output_type": "stream",
     "text": [
      "Modèle et tokenizer enregistrés dans le répertoire ./saved_model\n"
     ]
    }
   ],
   "source": [
    "# Répertoire où sauvegarder le modèle\n",
    "save_directory = \"./saved_model\"\n",
    "\n",
    "# Sauvegarder le modèle\n",
    "model.save_pretrained(save_directory)\n",
    "\n",
    "# Sauvegarder le tokenizer\n",
    "tokenizer.save_pretrained(save_directory)\n",
    "\n",
    "print(f\"Modèle et tokenizer enregistrés dans le répertoire {save_directory}\")\n"
   ]
  },
  {
   "cell_type": "markdown",
   "metadata": {},
   "source": [
    "### 5 - Validation du modèle"
   ]
  },
  {
   "cell_type": "code",
   "execution_count": 16,
   "metadata": {},
   "outputs": [
    {
     "name": "stdout",
     "output_type": "stream",
     "text": [
      "Validation Loss: 0.5811261137326559\n"
     ]
    },
    {
     "data": {
      "text/plain": [
       "<Figure size 2000x2000 with 0 Axes>"
      ]
     },
     "metadata": {},
     "output_type": "display_data"
    },
    {
     "data": {
      "image/png": "[encoded data removed]",
      "text/plain": [
       "<Figure size 640x480 with 2 Axes>"
      ]
     },
     "metadata": {},
     "output_type": "display_data"
    }
   ],
   "source": [
    "import torch\n",
    "from sklearn.metrics import confusion_matrix, ConfusionMatrixDisplay\n",
    "import matplotlib.pyplot as plt\n",
    "\n",
    "device = torch.device(\"cuda\" if torch.cuda.is_available() else \"cpu\")\n",
    "model.to(device)\n",
    "\n",
    "model.eval()\n",
    "\n",
    "all_predictions = []\n",
    "all_labels = []\n",
    "\n",
    "test_loss = 0\n",
    "for batch in test_dataloader:\n",
    "    input_ids, attention_mask, labels = batch\n",
    "\n",
    "    input_ids = input_ids.to(device)\n",
    "    attention_mask = attention_mask.to(device)\n",
    "    labels = labels.to(device)\n",
    "\n",
    "    with torch.no_grad():\n",
    "        outputs = model(input_ids=input_ids, \n",
    "                        attention_mask=attention_mask, \n",
    "                        labels=labels)\n",
    "        \n",
    "    test_loss += outputs.loss.item()\n",
    "\n",
    "    predictions = torch.argmax(outputs.logits, dim=1)\n",
    "    \n",
    "    all_predictions.extend(predictions.cpu().numpy())\n",
    "    all_labels.extend(labels.cpu().numpy())\n",
    "\n",
    "test_loss = test_loss / len(test_dataloader)\n",
    "print(f\"Validation Loss: {test_loss}\")\n",
    "\n",
    "all_labels_name = [inv_label_map[x] for x in all_labels]\n",
    "all_predictions_name = [inv_label_map[x] for x in all_predictions]\n",
    "\n",
    "cm = confusion_matrix(all_labels, all_predictions)\n",
    "\n",
    "# Assurez-vous que le nombre d'étiquettes ici correspond à vos 9 labels dans inv_label_map\n",
    "display = ConfusionMatrixDisplay(confusion_matrix=cm, display_labels=[inv_label_map[i] for i in range(9)])\n",
    "plt.figure(figsize=(20, 20))\n",
    "display.plot(cmap=plt.cm.Reds)\n",
    "plt.title(\"Matrice de Confusion\")\n",
    "plt.xticks(rotation=45, ha=\"right\")\n",
    "plt.show()\n"
   ]
  },
  {
   "cell_type": "code",
   "execution_count": 17,
   "metadata": {},
   "outputs": [],
   "source": [
    "from sklearn.metrics import accuracy_score, fbeta_score, precision_score, recall_score\n",
    "\n",
    "def calculate_metrics(labels, predictions):\n",
    "    metrics = {}\n",
    "    metrics['accuracy'] = accuracy_score(labels, predictions)\n",
    "    metrics['precision'] = precision_score(labels, predictions, average='weighted')\n",
    "    metrics['recall'] = recall_score(labels, predictions, average='weighted')\n",
    "    metrics['f0.5_score'] = fbeta_score(labels, predictions, beta=0.5, average='weighted')\n",
    "    metrics['f2_score'] = fbeta_score(labels, predictions, beta=2, average='weighted')\n",
    "    metrics['f1_score'] = fbeta_score(labels, predictions, beta=1, average='weighted')\n",
    "    \n",
    "    return metrics"
   ]
  },
  {
   "cell_type": "code",
   "execution_count": 18,
   "metadata": {},
   "outputs": [],
   "source": [
    "from sklearn.metrics import accuracy_score, precision_score, recall_score, fbeta_score\n",
    "import numpy as np\n",
    "import matplotlib.pyplot as plt\n",
    "\n",
    "def calculate_classwise_metrics(labels, predictions):\n",
    "    \n",
    "    metrics_per_class = {}\n",
    "    \n",
    "    for class_index, class_name in inv_label_map.items():\n",
    "        class_labels = [1 if label == class_index else 0 for label in labels]\n",
    "        class_predictions = [1 if pred == class_index else 0 for pred in predictions]\n",
    "        \n",
    "        metrics_per_class[class_name] = {\n",
    "            'accuracy': accuracy_score(class_labels, class_predictions),\n",
    "            'precision': precision_score(class_labels, class_predictions, zero_division=0),\n",
    "            'recall': recall_score(class_labels, class_predictions, zero_division=0),\n",
    "            'f1_score': fbeta_score(class_labels, class_predictions, beta=1, zero_division=0),\n",
    "            'f0.5_score': fbeta_score(class_labels, class_predictions, beta=0.5, zero_division=0),\n",
    "            'f2_score': fbeta_score(class_labels, class_predictions, beta=2, zero_division=0)\n",
    "        }\n",
    "    \n",
    "    return metrics_per_class\n",
    "\n",
    "def display_classwise_metrics(metrics_per_class):\n",
    "    \n",
    "    class_names = list(metrics_per_class.keys())\n",
    "    metric_names = ['accuracy', 'precision', 'recall', 'f1_score', 'f0.5_score', 'f2_score']\n",
    "    \n",
    "    donnees = np.array([[metrics_per_class[cls][metric] for metric in metric_names] for cls in class_names])\n",
    "    num_classes, num_metrics = donnees.shape\n",
    "    \n",
    "    x = np.arange(num_metrics) \n",
    "    width = 0.15 \n",
    "    fig, ax = plt.subplots(figsize=(12, 7))  # Taille ajustée pour 9 classes\n",
    "    \n",
    "    for i in range(num_classes):\n",
    "        ax.bar(x + i * width, donnees[i], width, label=class_names[i])\n",
    "    \n",
    "    ax.set_title(\"Métriques par Classe\", fontsize=16)\n",
    "    ax.set_xticks(x + width * (num_classes - 1) / 2)\n",
    "    ax.set_xticklabels(metric_names, fontsize=12)\n",
    "    ax.set_ylabel(\"Score\", fontsize=14)\n",
    "    ax.set_ylim(0, 1)  \n",
    "    ax.legend(title=\"Classes\", bbox_to_anchor=(1.05, 1), loc='upper left', fontsize=12)\n",
    "    \n",
    "    ax.grid(axis='y', linestyle='--', alpha=0.7)\n",
    "    plt.tight_layout()\n",
    "    plt.show()\n"
   ]
  },
  {
   "cell_type": "code",
   "execution_count": 19,
   "metadata": {},
   "outputs": [
    {
     "data": {
      "image/png": "[encoded data removed]",
      "text/plain": [
       "<Figure size 800x500 with 1 Axes>"
      ]
     },
     "metadata": {},
     "output_type": "display_data"
    }
   ],
   "source": [
    "metrics = calculate_metrics(all_labels, all_predictions)\n",
    "\n",
    "metric_names = ['Accuracy', 'Precision', 'Recall', 'F0.5 Score', 'F1 Score', 'F2 Score']\n",
    "metric_values = [\n",
    "    metrics['accuracy'] * 100,\n",
    "    metrics['precision'] * 100,\n",
    "    metrics['recall'] * 100,\n",
    "    metrics['f0.5_score'] * 100,\n",
    "    metrics['f1_score'] * 100,\n",
    "    metrics['f2_score'] * 100\n",
    "]\n",
    "\n",
    "plt.figure(figsize=(8, 5))\n",
    "bars = plt.bar(metric_names, metric_values, color=['blue', 'orange', 'green', 'red', 'purple', 'brown'])\n",
    "for bar, value in zip(bars, metric_values):\n",
    "    plt.text(bar.get_x() + bar.get_width() / 2, bar.get_height() - 5,\n",
    "             f\"{value:.2f}%\", ha='center', color='white', fontsize=11)\n",
    "\n",
    "plt.title(\"Métriques de Performance\", fontsize=16)\n",
    "plt.ylabel(\"Pourcentage (%)\", fontsize=12)\n",
    "plt.ylim(0, 100)\n",
    "plt.grid(axis='y', linestyle='--', alpha=0.7)\n",
    "plt.tight_layout()\n",
    "plt.show()"
   ]
  },
  {
   "cell_type": "code",
   "execution_count": 20,
   "metadata": {},
   "outputs": [
    {
     "data": {
      "image/png": "[encoded data removed]",
      "text/plain": [
       "<Figure size 1200x700 with 1 Axes>"
      ]
     },
     "metadata": {},
     "output_type": "display_data"
    }
   ],
   "source": [
    "display_classwise_metrics(calculate_classwise_metrics(all_labels, all_predictions))"
   ]
  },
  {
   "cell_type": "code",
   "execution_count": null,
   "metadata": {},
   "outputs": [],
   "source": []
  }
 ],
 "metadata": {
  "kernelspec": {
   "display_name": "base",
   "language": "python",
   "name": "python3"
  },
  "language_info": {
   "codemirror_mode": {
    "name": "ipython",
    "version": 3
   },
   "file_extension": ".py",
   "mimetype": "text/x-python",
   "name": "python",
   "nbconvert_exporter": "python",
   "pygments_lexer": "ipython3",
   "version": "3.10.12"
  }
 },
 "nbformat": 4,
 "nbformat_minor": 2
}
